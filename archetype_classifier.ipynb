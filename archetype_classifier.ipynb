{
  "cells": [
    {
      "cell_type": "markdown",
      "metadata": {
        "id": "IrNV3x3lmN0k"
      },
      "source": [
        "# Imports\n",
        "Most imports needed to run this notebook are listed here. Please make sure they run properly before continuing running other cells."
      ]
    },
    {
      "cell_type": "code",
      "execution_count": null,
      "metadata": {
        "colab": {
          "base_uri": "https://localhost:8080/"
        },
        "id": "YGZLLTgQloBC",
        "outputId": "53c4c171-2606-4af0-dafe-b7c59471d1cc"
      },
      "outputs": [
        {
          "name": "stdout",
          "output_type": "stream",
          "text": [
            "Cloning into 'neuralcoref'...\n",
            "remote: Enumerating objects: 772, done.\u001b[K\n",
            "remote: Counting objects: 100% (24/24), done.\u001b[K\n",
            "remote: Compressing objects: 100% (16/16), done.\u001b[K\n",
            "remote: Total 772 (delta 10), reused 16 (delta 7), pack-reused 748\u001b[K\n",
            "Receiving objects: 100% (772/772), 67.85 MiB | 17.14 MiB/s, done.\n",
            "Resolving deltas: 100% (407/407), done.\n",
            "Checking out files: 100% (151/151), done.\n",
            "/content/neuralcoref/neuralcoref/neuralcoref\n",
            "Requirement already satisfied: spacy<3.0.0,>=2.1.0 in /usr/local/lib/python3.7/dist-packages (from -r requirements.txt (line 1)) (2.2.4)\n",
            "Requirement already satisfied: cython>=0.25 in /usr/local/lib/python3.7/dist-packages (from -r requirements.txt (line 2)) (0.29.28)\n",
            "Requirement already satisfied: pytest in /usr/local/lib/python3.7/dist-packages (from -r requirements.txt (line 3)) (3.6.4)\n",
            "Requirement already satisfied: wasabi<1.1.0,>=0.4.0 in /usr/local/lib/python3.7/dist-packages (from spacy<3.0.0,>=2.1.0->-r requirements.txt (line 1)) (0.9.1)\n",
            "Requirement already satisfied: blis<0.5.0,>=0.4.0 in /usr/local/lib/python3.7/dist-packages (from spacy<3.0.0,>=2.1.0->-r requirements.txt (line 1)) (0.4.1)\n",
            "Requirement already satisfied: setuptools in /usr/local/lib/python3.7/dist-packages (from spacy<3.0.0,>=2.1.0->-r requirements.txt (line 1)) (57.4.0)\n",
            "Requirement already satisfied: requests<3.0.0,>=2.13.0 in /usr/local/lib/python3.7/dist-packages (from spacy<3.0.0,>=2.1.0->-r requirements.txt (line 1)) (2.23.0)\n",
            "Requirement already satisfied: srsly<1.1.0,>=1.0.2 in /usr/local/lib/python3.7/dist-packages (from spacy<3.0.0,>=2.1.0->-r requirements.txt (line 1)) (1.0.5)\n",
            "Requirement already satisfied: murmurhash<1.1.0,>=0.28.0 in /usr/local/lib/python3.7/dist-packages (from spacy<3.0.0,>=2.1.0->-r requirements.txt (line 1)) (1.0.6)\n",
            "Requirement already satisfied: plac<1.2.0,>=0.9.6 in /usr/local/lib/python3.7/dist-packages (from spacy<3.0.0,>=2.1.0->-r requirements.txt (line 1)) (1.1.3)\n",
            "Requirement already satisfied: thinc==7.4.0 in /usr/local/lib/python3.7/dist-packages (from spacy<3.0.0,>=2.1.0->-r requirements.txt (line 1)) (7.4.0)\n",
            "Requirement already satisfied: preshed<3.1.0,>=3.0.2 in /usr/local/lib/python3.7/dist-packages (from spacy<3.0.0,>=2.1.0->-r requirements.txt (line 1)) (3.0.6)\n",
            "Requirement already satisfied: cymem<2.1.0,>=2.0.2 in /usr/local/lib/python3.7/dist-packages (from spacy<3.0.0,>=2.1.0->-r requirements.txt (line 1)) (2.0.6)\n",
            "Requirement already satisfied: catalogue<1.1.0,>=0.0.7 in /usr/local/lib/python3.7/dist-packages (from spacy<3.0.0,>=2.1.0->-r requirements.txt (line 1)) (1.0.0)\n",
            "Requirement already satisfied: tqdm<5.0.0,>=4.38.0 in /usr/local/lib/python3.7/dist-packages (from spacy<3.0.0,>=2.1.0->-r requirements.txt (line 1)) (4.64.0)\n",
            "Requirement already satisfied: numpy>=1.15.0 in /usr/local/lib/python3.7/dist-packages (from spacy<3.0.0,>=2.1.0->-r requirements.txt (line 1)) (1.21.6)\n",
            "Requirement already satisfied: importlib-metadata>=0.20 in /usr/local/lib/python3.7/dist-packages (from catalogue<1.1.0,>=0.0.7->spacy<3.0.0,>=2.1.0->-r requirements.txt (line 1)) (4.11.3)\n",
            "Requirement already satisfied: zipp>=0.5 in /usr/local/lib/python3.7/dist-packages (from importlib-metadata>=0.20->catalogue<1.1.0,>=0.0.7->spacy<3.0.0,>=2.1.0->-r requirements.txt (line 1)) (3.8.0)\n",
            "Requirement already satisfied: typing-extensions>=3.6.4 in /usr/local/lib/python3.7/dist-packages (from importlib-metadata>=0.20->catalogue<1.1.0,>=0.0.7->spacy<3.0.0,>=2.1.0->-r requirements.txt (line 1)) (4.1.1)\n",
            "Requirement already satisfied: certifi>=2017.4.17 in /usr/local/lib/python3.7/dist-packages (from requests<3.0.0,>=2.13.0->spacy<3.0.0,>=2.1.0->-r requirements.txt (line 1)) (2021.10.8)\n",
            "Requirement already satisfied: urllib3!=1.25.0,!=1.25.1,<1.26,>=1.21.1 in /usr/local/lib/python3.7/dist-packages (from requests<3.0.0,>=2.13.0->spacy<3.0.0,>=2.1.0->-r requirements.txt (line 1)) (1.25.11)\n",
            "Requirement already satisfied: idna<3,>=2.5 in /usr/local/lib/python3.7/dist-packages (from requests<3.0.0,>=2.13.0->spacy<3.0.0,>=2.1.0->-r requirements.txt (line 1)) (2.10)\n",
            "Requirement already satisfied: chardet<4,>=3.0.2 in /usr/local/lib/python3.7/dist-packages (from requests<3.0.0,>=2.13.0->spacy<3.0.0,>=2.1.0->-r requirements.txt (line 1)) (3.0.4)\n",
            "Requirement already satisfied: py>=1.5.0 in /usr/local/lib/python3.7/dist-packages (from pytest->-r requirements.txt (line 3)) (1.11.0)\n",
            "Requirement already satisfied: attrs>=17.4.0 in /usr/local/lib/python3.7/dist-packages (from pytest->-r requirements.txt (line 3)) (21.4.0)\n",
            "Requirement already satisfied: six>=1.10.0 in /usr/local/lib/python3.7/dist-packages (from pytest->-r requirements.txt (line 3)) (1.15.0)\n",
            "Requirement already satisfied: atomicwrites>=1.0 in /usr/local/lib/python3.7/dist-packages (from pytest->-r requirements.txt (line 3)) (1.4.0)\n",
            "Requirement already satisfied: pluggy<0.8,>=0.5 in /usr/local/lib/python3.7/dist-packages (from pytest->-r requirements.txt (line 3)) (0.7.1)\n",
            "Requirement already satisfied: more-itertools>=4.0.0 in /usr/local/lib/python3.7/dist-packages (from pytest->-r requirements.txt (line 3)) (8.12.0)\n",
            "Obtaining file:///content/neuralcoref/neuralcoref/neuralcoref\n",
            "Requirement already satisfied: numpy>=1.15.0 in /usr/local/lib/python3.7/dist-packages (from neuralcoref==4.0) (1.21.6)\n",
            "Requirement already satisfied: boto3 in /usr/local/lib/python3.7/dist-packages (from neuralcoref==4.0) (1.21.45)\n",
            "Requirement already satisfied: requests<3.0.0,>=2.13.0 in /usr/local/lib/python3.7/dist-packages (from neuralcoref==4.0) (2.23.0)\n",
            "Requirement already satisfied: spacy<3.0.0,>=2.1.0 in /usr/local/lib/python3.7/dist-packages (from neuralcoref==4.0) (2.2.4)\n",
            "Requirement already satisfied: idna<3,>=2.5 in /usr/local/lib/python3.7/dist-packages (from requests<3.0.0,>=2.13.0->neuralcoref==4.0) (2.10)\n",
            "Requirement already satisfied: urllib3!=1.25.0,!=1.25.1,<1.26,>=1.21.1 in /usr/local/lib/python3.7/dist-packages (from requests<3.0.0,>=2.13.0->neuralcoref==4.0) (1.25.11)\n",
            "Requirement already satisfied: certifi>=2017.4.17 in /usr/local/lib/python3.7/dist-packages (from requests<3.0.0,>=2.13.0->neuralcoref==4.0) (2021.10.8)\n",
            "Requirement already satisfied: chardet<4,>=3.0.2 in /usr/local/lib/python3.7/dist-packages (from requests<3.0.0,>=2.13.0->neuralcoref==4.0) (3.0.4)\n",
            "Requirement already satisfied: cymem<2.1.0,>=2.0.2 in /usr/local/lib/python3.7/dist-packages (from spacy<3.0.0,>=2.1.0->neuralcoref==4.0) (2.0.6)\n",
            "Requirement already satisfied: tqdm<5.0.0,>=4.38.0 in /usr/local/lib/python3.7/dist-packages (from spacy<3.0.0,>=2.1.0->neuralcoref==4.0) (4.64.0)\n",
            "Requirement already satisfied: srsly<1.1.0,>=1.0.2 in /usr/local/lib/python3.7/dist-packages (from spacy<3.0.0,>=2.1.0->neuralcoref==4.0) (1.0.5)\n",
            "Requirement already satisfied: wasabi<1.1.0,>=0.4.0 in /usr/local/lib/python3.7/dist-packages (from spacy<3.0.0,>=2.1.0->neuralcoref==4.0) (0.9.1)\n",
            "Requirement already satisfied: thinc==7.4.0 in /usr/local/lib/python3.7/dist-packages (from spacy<3.0.0,>=2.1.0->neuralcoref==4.0) (7.4.0)\n",
            "Requirement already satisfied: catalogue<1.1.0,>=0.0.7 in /usr/local/lib/python3.7/dist-packages (from spacy<3.0.0,>=2.1.0->neuralcoref==4.0) (1.0.0)\n",
            "Requirement already satisfied: preshed<3.1.0,>=3.0.2 in /usr/local/lib/python3.7/dist-packages (from spacy<3.0.0,>=2.1.0->neuralcoref==4.0) (3.0.6)\n",
            "Requirement already satisfied: plac<1.2.0,>=0.9.6 in /usr/local/lib/python3.7/dist-packages (from spacy<3.0.0,>=2.1.0->neuralcoref==4.0) (1.1.3)\n",
            "Requirement already satisfied: blis<0.5.0,>=0.4.0 in /usr/local/lib/python3.7/dist-packages (from spacy<3.0.0,>=2.1.0->neuralcoref==4.0) (0.4.1)\n",
            "Requirement already satisfied: setuptools in /usr/local/lib/python3.7/dist-packages (from spacy<3.0.0,>=2.1.0->neuralcoref==4.0) (57.4.0)\n",
            "Requirement already satisfied: murmurhash<1.1.0,>=0.28.0 in /usr/local/lib/python3.7/dist-packages (from spacy<3.0.0,>=2.1.0->neuralcoref==4.0) (1.0.6)\n",
            "Requirement already satisfied: importlib-metadata>=0.20 in /usr/local/lib/python3.7/dist-packages (from catalogue<1.1.0,>=0.0.7->spacy<3.0.0,>=2.1.0->neuralcoref==4.0) (4.11.3)\n",
            "Requirement already satisfied: typing-extensions>=3.6.4 in /usr/local/lib/python3.7/dist-packages (from importlib-metadata>=0.20->catalogue<1.1.0,>=0.0.7->spacy<3.0.0,>=2.1.0->neuralcoref==4.0) (4.1.1)\n",
            "Requirement already satisfied: zipp>=0.5 in /usr/local/lib/python3.7/dist-packages (from importlib-metadata>=0.20->catalogue<1.1.0,>=0.0.7->spacy<3.0.0,>=2.1.0->neuralcoref==4.0) (3.8.0)\n",
            "Requirement already satisfied: s3transfer<0.6.0,>=0.5.0 in /usr/local/lib/python3.7/dist-packages (from boto3->neuralcoref==4.0) (0.5.2)\n",
            "Requirement already satisfied: jmespath<2.0.0,>=0.7.1 in /usr/local/lib/python3.7/dist-packages (from boto3->neuralcoref==4.0) (1.0.0)\n",
            "Requirement already satisfied: botocore<1.25.0,>=1.24.45 in /usr/local/lib/python3.7/dist-packages (from boto3->neuralcoref==4.0) (1.24.45)\n",
            "Requirement already satisfied: python-dateutil<3.0.0,>=2.1 in /usr/local/lib/python3.7/dist-packages (from botocore<1.25.0,>=1.24.45->boto3->neuralcoref==4.0) (2.8.2)\n",
            "Requirement already satisfied: six>=1.5 in /usr/local/lib/python3.7/dist-packages (from python-dateutil<3.0.0,>=2.1->botocore<1.25.0,>=1.24.45->boto3->neuralcoref==4.0) (1.15.0)\n",
            "Installing collected packages: neuralcoref\n",
            "  Attempting uninstall: neuralcoref\n",
            "    Found existing installation: neuralcoref 4.0\n",
            "    Can't uninstall 'neuralcoref'. No files were found to uninstall.\n",
            "  Running setup.py develop for neuralcoref\n",
            "Successfully installed neuralcoref-4.0\n"
          ]
        }
      ],
      "source": [
        "# please note that potentially you'll have to restart the runtime and execute this cell a second time for this to work\n",
        "!git clone https://github.com/huggingface/neuralcoref.git\n",
        "%cd neuralcoref\n",
        "!pip install -r requirements.txt\n",
        "!pip install -e ."
      ]
    },
    {
      "cell_type": "code",
      "execution_count": null,
      "metadata": {
        "colab": {
          "base_uri": "https://localhost:8080/"
        },
        "id": "v-sje7Ijl3V7",
        "outputId": "8c16d07f-d9d3-493d-b38e-8af3f87d7e98"
      },
      "outputs": [
        {
          "name": "stdout",
          "output_type": "stream",
          "text": [
            "[nltk_data] Downloading package punkt to /root/nltk_data...\n",
            "[nltk_data]   Package punkt is already up-to-date!\n"
          ]
        },
        {
          "data": {
            "text/plain": [
              "True"
            ]
          },
          "execution_count": 96,
          "metadata": {},
          "output_type": "execute_result"
        }
      ],
      "source": [
        "import spacy\n",
        "import neuralcoref\n",
        "nlp = spacy.load('en')\n",
        "neuralcoref.add_to_pipe(nlp)\n",
        "import nltk\n",
        "nltk.download('punkt')"
      ]
    },
    {
      "cell_type": "code",
      "execution_count": null,
      "metadata": {
        "id": "sEOybLr3p0kb"
      },
      "outputs": [],
      "source": [
        "import en_core_web_sm\n",
        "nlp_en_core_web_sm = en_core_web_sm.load()"
      ]
    },
    {
      "cell_type": "code",
      "execution_count": null,
      "metadata": {
        "colab": {
          "base_uri": "https://localhost:8080/"
        },
        "id": "qSCszonJgD9K",
        "outputId": "6d81b009-77d3-44fd-e1bf-ea1c17f6617c"
      },
      "outputs": [
        {
          "name": "stdout",
          "output_type": "stream",
          "text": [
            "Requirement already satisfied: transformers in /usr/local/lib/python3.7/dist-packages (4.18.0)\n",
            "Requirement already satisfied: huggingface-hub<1.0,>=0.1.0 in /usr/local/lib/python3.7/dist-packages (from transformers) (0.5.1)\n",
            "Requirement already satisfied: requests in /usr/local/lib/python3.7/dist-packages (from transformers) (2.23.0)\n",
            "Requirement already satisfied: numpy>=1.17 in /usr/local/lib/python3.7/dist-packages (from transformers) (1.21.6)\n",
            "Requirement already satisfied: importlib-metadata in /usr/local/lib/python3.7/dist-packages (from transformers) (4.11.3)\n",
            "Requirement already satisfied: tqdm>=4.27 in /usr/local/lib/python3.7/dist-packages (from transformers) (4.64.0)\n",
            "Requirement already satisfied: sacremoses in /usr/local/lib/python3.7/dist-packages (from transformers) (0.0.49)\n",
            "Requirement already satisfied: packaging>=20.0 in /usr/local/lib/python3.7/dist-packages (from transformers) (21.3)\n",
            "Requirement already satisfied: filelock in /usr/local/lib/python3.7/dist-packages (from transformers) (3.6.0)\n",
            "Requirement already satisfied: tokenizers!=0.11.3,<0.13,>=0.11.1 in /usr/local/lib/python3.7/dist-packages (from transformers) (0.12.1)\n",
            "Requirement already satisfied: pyyaml>=5.1 in /usr/local/lib/python3.7/dist-packages (from transformers) (6.0)\n",
            "Requirement already satisfied: regex!=2019.12.17 in /usr/local/lib/python3.7/dist-packages (from transformers) (2019.12.20)\n",
            "Requirement already satisfied: typing-extensions>=3.7.4.3 in /usr/local/lib/python3.7/dist-packages (from huggingface-hub<1.0,>=0.1.0->transformers) (4.1.1)\n",
            "Requirement already satisfied: pyparsing!=3.0.5,>=2.0.2 in /usr/local/lib/python3.7/dist-packages (from packaging>=20.0->transformers) (3.0.8)\n",
            "Requirement already satisfied: zipp>=0.5 in /usr/local/lib/python3.7/dist-packages (from importlib-metadata->transformers) (3.8.0)\n",
            "Requirement already satisfied: certifi>=2017.4.17 in /usr/local/lib/python3.7/dist-packages (from requests->transformers) (2021.10.8)\n",
            "Requirement already satisfied: urllib3!=1.25.0,!=1.25.1,<1.26,>=1.21.1 in /usr/local/lib/python3.7/dist-packages (from requests->transformers) (1.25.11)\n",
            "Requirement already satisfied: idna<3,>=2.5 in /usr/local/lib/python3.7/dist-packages (from requests->transformers) (2.10)\n",
            "Requirement already satisfied: chardet<4,>=3.0.2 in /usr/local/lib/python3.7/dist-packages (from requests->transformers) (3.0.4)\n",
            "Requirement already satisfied: click in /usr/local/lib/python3.7/dist-packages (from sacremoses->transformers) (7.1.2)\n",
            "Requirement already satisfied: joblib in /usr/local/lib/python3.7/dist-packages (from sacremoses->transformers) (1.1.0)\n",
            "Requirement already satisfied: six in /usr/local/lib/python3.7/dist-packages (from sacremoses->transformers) (1.15.0)\n",
            "Running on cuda\n"
          ]
        }
      ],
      "source": [
        "!pip install transformers\n",
        "\n",
        "from transformers import BertModel, BertTokenizer\n",
        "import torch\n",
        "from tqdm import tqdm\n",
        "import torch.nn as nn\n",
        "import random\n",
        "import time\n",
        "\n",
        "device = torch.device(\"cuda\" if torch.cuda.is_available() else \"cpu\")\n",
        "print(\"Running on {}\".format(device))"
      ]
    },
    {
      "cell_type": "code",
      "execution_count": null,
      "metadata": {
        "id": "-3hUZcQfbtCr"
      },
      "outputs": [],
      "source": [
        "import pandas as pd\n",
        "import matplotlib.pyplot as plt\n",
        "import numpy as np\n",
        "import pdb\n",
        "import seaborn as sns\n",
        "sns.set_theme()\n",
        "from collections import Counter, OrderedDict\n",
        "from scipy.stats import norm\n",
        "import math\n",
        "from sklearn.metrics import accuracy_score, confusion_matrix, ConfusionMatrixDisplay"
      ]
    },
    {
      "cell_type": "code",
      "execution_count": null,
      "metadata": {
        "colab": {
          "base_uri": "https://localhost:8080/"
        },
        "id": "owPHtlGKcf4o",
        "outputId": "21fa84a6-0764-47d2-a836-547e41ec520d"
      },
      "outputs": [
        {
          "name": "stdout",
          "output_type": "stream",
          "text": [
            "Drive already mounted at /content/drive; to attempt to forcibly remount, call drive.mount(\"/content/drive\", force_remount=True).\n"
          ]
        }
      ],
      "source": [
        "from google.colab import drive\n",
        "drive.mount('/content/drive')\n",
        "\n",
        "# For this to run, make sure to create a shortcut to the short folder in your personal drive\n",
        "# Just click on Folder and then \"add to drive\"\n",
        "root_path = '/content/drive/My Drive/project_folder'"
      ]
    },
    {
      "cell_type": "markdown",
      "metadata": {
        "id": "WBQIf-ffcYq6"
      },
      "source": [
        "# Data preparation\n",
        "Load the train, dev, test files from gdrive. Please note that in order to run the entire out of box error free you are required to authenticate a connection to Google Drive and create a certain file structure. On your personal drive create the following structure:\n",
        "\n",
        "root_path -> 'INFO 259 - Annotation Project/annotation_project/AP_4/'\n",
        "- data/70/\n",
        "    - train.txt\n",
        "    - dev.txt\n",
        "    - test.txt\n",
        "- plots/\n",
        "- temp/\n",
        "\n",
        "The following cells will then prepare data to be passed to prediction models by splitting it in features and target values. Categorical labels are replaced with numbers in order to be able to pass it to BERT."
      ]
    },
    {
      "cell_type": "code",
      "execution_count": null,
      "metadata": {
        "id": "k8Vp9PAedhxE"
      },
      "outputs": [],
      "source": [
        "def load_data(filename):\n",
        "    ID = []\n",
        "    XY = []\n",
        "    with open(filename, encoding=\"utf-8\") as file:\n",
        "        for line in file:\n",
        "            cols = line.split(\"\\t\")\n",
        "            idd = int(cols[0])\n",
        "            label = cols[1].lstrip().rstrip()\n",
        "            text = cols[2]\n",
        "\n",
        "            ID.append(idd)\n",
        "            XY.append([text, label])\n",
        "\n",
        "    return ID, XY"
      ]
    },
    {
      "cell_type": "code",
      "execution_count": null,
      "metadata": {
        "id": "L3PjUuJMdq1X"
      },
      "outputs": [],
      "source": [
        "# load data from gdrive, alternatively change path name and drag and drop files in project\n",
        "train_ID, train_XY = load_data(root_path + 'data/70/train.txt')\n",
        "train = pd.DataFrame(train_XY, index=train_ID, columns=['text', 'label'])\n",
        "dev_ID, dev_XY = load_data(root_path + 'data/70/dev.txt')\n",
        "dev = pd.DataFrame(dev_XY, index=dev_ID, columns=['text', 'label'])\n",
        "test_ID, test_XY = load_data(root_path + 'data/70/test.txt')\n",
        "test = pd.DataFrame(test_XY, index=test_ID, columns=['text', 'label'])"
      ]
    },
    {
      "cell_type": "code",
      "execution_count": null,
      "metadata": {
        "colab": {
          "base_uri": "https://localhost:8080/"
        },
        "id": "yZWmY-GOdpKW",
        "outputId": "d55f1378-122b-48a7-bb27-d4d11907f540"
      },
      "outputs": [
        {
          "name": "stdout",
          "output_type": "stream",
          "text": [
            "Training data:  600\n",
            "Evaluation data:  200\n",
            "Test data:  200\n"
          ]
        }
      ],
      "source": [
        "target = 'label'\n",
        "feature = 'text'\n",
        "\n",
        "labels = ['MASTERY', 'INDEPENDENCE', 'STABILITY', 'BELONGING', 'NONE']\n",
        "\n",
        "train = train.replace(labels, np.arange(0, len(labels)))\n",
        "dev = dev.replace(labels, np.arange(0, len(labels)))\n",
        "test = test.replace(labels, np.arange(0, len(labels)))\n",
        "\n",
        "X_train = list(train[feature].values)\n",
        "y_train = list(train[target].values)\n",
        "\n",
        "X_dev = list(dev[feature].values)\n",
        "y_dev = list(dev[target].values)\n",
        "\n",
        "X_test = list(test[feature].values)\n",
        "y_test = list(test[target].values)\n",
        "\n",
        "print('Training data: ', len(X_train))\n",
        "print('Evaluation data: ', len(X_dev))\n",
        "print('Test data: ', len(X_test))"
      ]
    },
    {
      "cell_type": "markdown",
      "metadata": {
        "id": "e7hNlkZ4gCcA"
      },
      "source": [
        "# Installing BERT\n",
        "We based our BERT implementation on the notebook provided. We added an additional function to make predictions using the trained model."
      ]
    },
    {
      "cell_type": "code",
      "execution_count": null,
      "metadata": {
        "id": "aiiR-Ng5gdBA"
      },
      "outputs": [],
      "source": [
        "def evaluate(model, x, y):\n",
        "    model.eval()\n",
        "    corr = 0.\n",
        "    total = 0.\n",
        "    with torch.no_grad():\n",
        "        for x, y in zip(x, y):\n",
        "            y_preds=model.forward(x)\n",
        "            for idx, y_pred in enumerate(y_preds):\n",
        "                prediction=torch.argmax(y_pred)\n",
        "                if prediction == y[idx]:\n",
        "                    corr += 1.\n",
        "                total+=1                          \n",
        "    return corr/total"
      ]
    },
    {
      "cell_type": "code",
      "execution_count": null,
      "metadata": {
        "id": "tZiPMl8uglyx"
      },
      "outputs": [],
      "source": [
        "def make_predictions(model, X, labels):\n",
        "    model.eval()\n",
        "    corr = 0.\n",
        "    total = 0.\n",
        "\n",
        "    predictions = []\n",
        "    with torch.no_grad():\n",
        "        for x in X:\n",
        "            y_preds=model.forward(x)\n",
        "            for idx, y_pred in enumerate(y_preds):\n",
        "                prediction=torch.argmax(y_pred)\n",
        "                predictions.append(labels[prediction.item()])                  \n",
        "    return predictions"
      ]
    },
    {
      "cell_type": "code",
      "execution_count": null,
      "metadata": {
        "id": "aU8i14I1grVV"
      },
      "outputs": [],
      "source": [
        "class BERTClassifier(nn.Module):\n",
        "\n",
        "    \n",
        "    def __init__(self, params):\n",
        "        super().__init__()\n",
        "    \n",
        "        self.model_name=params[\"model_name\"]\n",
        "        self.tokenizer = BertTokenizer.from_pretrained(self.model_name, do_lower_case=params[\"doLowerCase\"], do_basic_tokenize=False)\n",
        "        # self.tokenizer.add_tokens([\"[ENTITY]\"], special_tokens=True)\n",
        "\n",
        "        self.bert = BertModel.from_pretrained(self.model_name)\n",
        "        # self.bert.resize_token_embeddings(len(self.tokenizer))\n",
        "        \n",
        "        self.num_labels = params[\"label_length\"]\n",
        "\n",
        "        self.fc = nn.Linear(params[\"embedding_size\"], self.num_labels)\n",
        "\n",
        "    def get_batches(self, all_x, all_y, batch_size=32, max_toks=256):\n",
        "            \n",
        "        \"\"\" Get batches for input x, y data, with data tokenized according to the BERT tokenizer \n",
        "      (and limited to a maximum number of WordPiece tokens \"\"\"\n",
        "\n",
        "        batches_x=[]\n",
        "        batches_y=[]\n",
        "        \n",
        "        for i in range(0, len(all_x), batch_size):\n",
        "\n",
        "            current_batch=[]\n",
        "\n",
        "            x=all_x[i:i+batch_size]\n",
        "\n",
        "            batch_x = self.tokenizer(x, padding=True, truncation=True, return_tensors=\"pt\", max_length=max_toks)\n",
        "            batch_y=all_y[i:i+batch_size]\n",
        "\n",
        "            batches_x.append(batch_x.to(device))\n",
        "            batches_y.append(torch.LongTensor(batch_y).to(device))\n",
        "            \n",
        "        return batches_x, batches_y\n",
        "  \n",
        "\n",
        "    def forward(self, batch_x): \n",
        "    \n",
        "        bert_output = self.bert(input_ids=batch_x[\"input_ids\"],\n",
        "                         attention_mask=batch_x[\"attention_mask\"],\n",
        "                         token_type_ids=batch_x[\"token_type_ids\"],\n",
        "                         output_hidden_states=True)\n",
        "\n",
        "        bert_hidden_states = bert_output['hidden_states']\n",
        "\n",
        "        # We're going to represent an entire document just by its [CLS] embedding (at position 0)\n",
        "        out = bert_hidden_states[-1][:,0,:]\n",
        "\n",
        "        out = self.fc(out)\n",
        "\n",
        "        return out.squeeze()"
      ]
    },
    {
      "cell_type": "code",
      "execution_count": null,
      "metadata": {
        "id": "-RZaNlsVgw6P"
      },
      "outputs": [],
      "source": [
        "def train_and_evaluate(bert_model_name, model_filename, train_x, train_y, dev_x, dev_y, labels, embedding_size=768, doLowerCase=None):\n",
        "\n",
        "  start_time=time.time()\n",
        "  bert_model = BERTClassifier(params={\"doLowerCase\": doLowerCase, \"model_name\": bert_model_name, \"embedding_size\":embedding_size, \"label_length\": len(labels)})\n",
        "  bert_model.to(device)\n",
        "\n",
        "  batch_x, batch_y = bert_model.get_batches(train_x, train_y)\n",
        "  dev_batch_x, dev_batch_y = bert_model.get_batches(dev_x, dev_y)\n",
        "\n",
        "  optimizer = torch.optim.Adam(bert_model.parameters(), lr=1e-5)\n",
        "  cross_entropy=nn.CrossEntropyLoss()\n",
        "\n",
        "  num_epochs=5\n",
        "  best_dev_acc = 0.\n",
        "\n",
        "  for epoch in range(num_epochs):\n",
        "      bert_model.train()\n",
        "\n",
        "      # Train\n",
        "      for x, y in tqdm(list(zip(batch_x, batch_y))):\n",
        "          y_pred = bert_model.forward(x)\n",
        "          loss = cross_entropy(y_pred.view(-1, bert_model.num_labels), y.view(-1))\n",
        "          optimizer.zero_grad()\n",
        "          loss.backward()\n",
        "          optimizer.step()\n",
        "      \n",
        "      # Evaluate\n",
        "      dev_accuracy=evaluate(bert_model, dev_batch_x, dev_batch_y)\n",
        "      if epoch % 1 == 0:\n",
        "          print(\"Epoch %s, dev accuracy: %.3f\" % (epoch, dev_accuracy))\n",
        "          if dev_accuracy > best_dev_acc:\n",
        "              output = open(model_filename, mode=\"wb\")\n",
        "              torch.save(bert_model.state_dict(), model_filename)\n",
        "              output.close()\n",
        "              best_dev_acc = dev_accuracy\n",
        "\n",
        "  bert_model.load_state_dict(torch.load(model_filename))\n",
        "  print(\"\\nBest Performing Model achieves dev accuracy of : %.3f\" % (best_dev_acc))\n",
        "  print(\"Time: %.3f seconds ---\" % (time.time() - start_time))\n",
        "  return bert_model"
      ]
    },
    {
      "cell_type": "markdown",
      "metadata": {
        "id": "1ByudKlohCee"
      },
      "source": [
        "# Running BERT on entire text\n",
        "We are training a BERT model to predict the categorical archetype label and simply pass the book description as input. BERT will tokenize the description and take the first 256 tokens into account."
      ]
    },
    {
      "cell_type": "code",
      "execution_count": null,
      "metadata": {
        "colab": {
          "base_uri": "https://localhost:8080/",
          "height": 451,
          "referenced_widgets": [
            "d4a2714310fd42888d16af723df0fb58",
            "d49ed9c131794f9b8fb5556cfd06d72f",
            "0fc8c827cdb3473bb8d883896c453461",
            "16744b5c9e3341269403a41e3263fcf7",
            "0fd4b2df7872402c9fc87227652741af",
            "8c2ba353e1a946409fa37f2a05030e20",
            "41f649a64bc940d1be433dde24d83e4a",
            "23955eb32f14436eb81b902439eb1e06",
            "1dceb9074d1b4062ac94e9aa039a0d11",
            "36e2f06a1ed44ea199993f1b1871f594",
            "c398e854043843af8c90ff416e3f4296",
            "f7c85b49dfce409493504e812499b950",
            "5dc3bb2a5b0a46b29596b75e0c8d886a",
            "b53e301d2f3e4734b6731b0acebe6e62",
            "f46167c660354bbc93e9108a66abb6df",
            "4c8d92a5944c42b1bcbed9a280fe3634",
            "620a1dc9389a4fa5bb260b65094dd4d4",
            "f5cb2f5b310145deb14f805ced2f9f2e",
            "ce8e80180c8046288896a3593f7dc2d0",
            "8ff474b03d23456cb37e6f419b0325f1",
            "9b623fe28cfc4a81a279d68b73e1947a",
            "f3b38c73448e4f76bae578616d776bb9",
            "218352cedf0b4857af3eb4015bc20f5e",
            "bea49ddb0c384030b59cf11e63352d69",
            "9c6b0ba2a6ae4ba0ac3dfd9bcf9d90e0",
            "baf802def57a4ded989543a69bd8bdd8",
            "2d3bdbf694e24107a1ae8a361d0456f6",
            "34c8fa396ec14a64a64d20f82e676204",
            "aa868430d3144c86b5b11df10a30e7d8",
            "5fbbdb446a5e40d9914843b330b54715",
            "eadabc107abc4d18a7b9e37eee7f4eb8",
            "3eec9913bd77464b826cf9b9966a8e51",
            "92dcd05406d842e28e70673eb4cf3417",
            "ac7f4de585a346a4b786960f6cda519f",
            "95726fe2d0834d409aca20c42e6e5139",
            "22f4bf1646c7473cb28ecd6ec694aaf6",
            "a87f9f7029364884966d4d0e0a96935b",
            "e7ee87861d12459389bbb713793f2ac8",
            "c49dcc4745cb497b91b177f96c422046",
            "c1bb4e0632ee48b7aa3443688d98aecd",
            "ec84664d95744a5d8f81a3c2c057f75c",
            "0800d24fea834ea5a274ce485607e640",
            "9d603e6c3a5240d4a25ab1c0ab0e218c",
            "302d637bb3914364bf516d044bdc1912"
          ]
        },
        "id": "bfH8ihLMg1a6",
        "outputId": "19a0fd43-0a66-4318-b0a2-c7008002095f"
      },
      "outputs": [
        {
          "data": {
            "application/vnd.jupyter.widget-view+json": {
              "model_id": "d4a2714310fd42888d16af723df0fb58",
              "version_major": 2,
              "version_minor": 0
            },
            "text/plain": [
              "Downloading:   0%|          | 0.00/208k [00:00<?, ?B/s]"
            ]
          },
          "metadata": {},
          "output_type": "display_data"
        },
        {
          "data": {
            "application/vnd.jupyter.widget-view+json": {
              "model_id": "f7c85b49dfce409493504e812499b950",
              "version_major": 2,
              "version_minor": 0
            },
            "text/plain": [
              "Downloading:   0%|          | 0.00/29.0 [00:00<?, ?B/s]"
            ]
          },
          "metadata": {},
          "output_type": "display_data"
        },
        {
          "data": {
            "application/vnd.jupyter.widget-view+json": {
              "model_id": "218352cedf0b4857af3eb4015bc20f5e",
              "version_major": 2,
              "version_minor": 0
            },
            "text/plain": [
              "Downloading:   0%|          | 0.00/570 [00:00<?, ?B/s]"
            ]
          },
          "metadata": {},
          "output_type": "display_data"
        },
        {
          "data": {
            "application/vnd.jupyter.widget-view+json": {
              "model_id": "ac7f4de585a346a4b786960f6cda519f",
              "version_major": 2,
              "version_minor": 0
            },
            "text/plain": [
              "Downloading:   0%|          | 0.00/416M [00:00<?, ?B/s]"
            ]
          },
          "metadata": {},
          "output_type": "display_data"
        },
        {
          "name": "stderr",
          "output_type": "stream",
          "text": [
            "Some weights of the model checkpoint at bert-base-cased were not used when initializing BertModel: ['cls.predictions.transform.LayerNorm.bias', 'cls.predictions.decoder.weight', 'cls.seq_relationship.weight', 'cls.seq_relationship.bias', 'cls.predictions.transform.dense.weight', 'cls.predictions.bias', 'cls.predictions.transform.dense.bias', 'cls.predictions.transform.LayerNorm.weight']\n",
            "- This IS expected if you are initializing BertModel from the checkpoint of a model trained on another task or with another architecture (e.g. initializing a BertForSequenceClassification model from a BertForPreTraining model).\n",
            "- This IS NOT expected if you are initializing BertModel from the checkpoint of a model that you expect to be exactly identical (initializing a BertForSequenceClassification model from a BertForSequenceClassification model).\n",
            "100%|██████████| 19/19 [00:23<00:00,  1.24s/it]\n"
          ]
        },
        {
          "name": "stdout",
          "output_type": "stream",
          "text": [
            "Epoch 0, dev accuracy: 0.345\n"
          ]
        },
        {
          "name": "stderr",
          "output_type": "stream",
          "text": [
            "100%|██████████| 19/19 [00:23<00:00,  1.26s/it]\n"
          ]
        },
        {
          "name": "stdout",
          "output_type": "stream",
          "text": [
            "Epoch 1, dev accuracy: 0.380\n"
          ]
        },
        {
          "name": "stderr",
          "output_type": "stream",
          "text": [
            "100%|██████████| 19/19 [00:24<00:00,  1.28s/it]\n"
          ]
        },
        {
          "name": "stdout",
          "output_type": "stream",
          "text": [
            "Epoch 2, dev accuracy: 0.445\n"
          ]
        },
        {
          "name": "stderr",
          "output_type": "stream",
          "text": [
            "100%|██████████| 19/19 [00:24<00:00,  1.30s/it]\n"
          ]
        },
        {
          "name": "stdout",
          "output_type": "stream",
          "text": [
            "Epoch 3, dev accuracy: 0.465\n"
          ]
        },
        {
          "name": "stderr",
          "output_type": "stream",
          "text": [
            "100%|██████████| 19/19 [00:25<00:00,  1.32s/it]\n"
          ]
        },
        {
          "name": "stdout",
          "output_type": "stream",
          "text": [
            "Epoch 4, dev accuracy: 0.475\n",
            "\n",
            "Best Performing Model achieves dev accuracy of : 0.475\n",
            "Time: 170.176 seconds ---\n"
          ]
        }
      ],
      "source": [
        "bert_model = train_and_evaluate(\"bert-base-cased\", \"bert-trained.pt\", X_train, y_train, X_dev, y_dev, labels, embedding_size=768, doLowerCase=False)"
      ]
    },
    {
      "cell_type": "code",
      "execution_count": null,
      "metadata": {
        "id": "1k0FSgadi0O_"
      },
      "outputs": [],
      "source": [
        "test_batch_x, test_batch_y = bert_model.get_batches(X_test, y_test)\n",
        "yhat_test = make_predictions(bert_model, test_batch_x, labels)"
      ]
    },
    {
      "cell_type": "code",
      "execution_count": null,
      "metadata": {
        "id": "sR_9g5MwjRly"
      },
      "outputs": [],
      "source": [
        "def confidence_intervals(accuracy, n, significance_level):\n",
        "    critical_value=(1-significance_level)/2\n",
        "    z_alpha=-1*norm.ppf(critical_value)\n",
        "    se=math.sqrt((accuracy*(1-accuracy))/n)\n",
        "    return accuracy-(se*z_alpha), accuracy+(se*z_alpha)"
      ]
    },
    {
      "cell_type": "code",
      "execution_count": null,
      "metadata": {
        "colab": {
          "base_uri": "https://localhost:8080/",
          "height": 380
        },
        "id": "-89CDn3ijSeI",
        "outputId": "f5c2ab42-7da1-477a-9d18-2317fe78a779"
      },
      "outputs": [
        {
          "name": "stdout",
          "output_type": "stream",
          "text": [
            "Accuracy on test set: 0.505, 95% CIs: [0.436 0.574]\n"
          ]
        },
        {
          "data": {
            "image/png": "[encoded data removed]",
            "text/plain": [
              "<Figure size 432x288 with 2 Axes>"
            ]
          },
          "metadata": {},
          "output_type": "display_data"
        }
      ],
      "source": [
        "y_test_labels = [labels[x] for x in y_test]\n",
        "\n",
        "lower, upper=confidence_intervals(accuracy_score(y_test_labels, yhat_test), len(y_test_labels), .95)\n",
        "print('Accuracy on test set: %.3f, 95%% CIs: [%.3f %.3f]' % (accuracy_score(y_test_labels, yhat_test), lower, upper))\n",
        "cm = confusion_matrix(y_test_labels, yhat_test, labels=labels)\n",
        "disp = ConfusionMatrixDisplay(cm, display_labels=labels)\n",
        "disp.plot(cmap=plt.cm.Blues,values_format='g')\n",
        "plt.grid(visible=None)\n",
        "plt.xticks(rotation=90)\n",
        "plt.savefig(root_path + 'plots/BERT_text_confusion', format='pdf', bbox_inches=\"tight\")\n",
        "plt.show()"
      ]
    },
    {
      "cell_type": "markdown",
      "metadata": {
        "id": "hgYs6PX9ljE7"
      },
      "source": [
        "# Correference Resolution\n",
        "In order to improve the performance we aim to achieve two objectives:\n",
        "1. Increase the share of information that is character related\n",
        "2. Pass sentences instead of entire paragraphs, in order to prevent how BERT has to disregard some of the information.\n",
        "\n",
        "In order to identify the main character we are using the [spaCY](https://spacy.io/) library. We also did this prior to annotating our data and assigned the label in respect to the identified character. Because we did not want to load external pre-computed data, here we are recalculating the main character within this notebook following the same approach. Still it might be that these results differ slightly from the original computed characters.\n",
        "\n",
        "Using the en_core_web_sm spaCY library we identify all persons. Then we adjudicate mentions of the same character in regards of first and last name. Finally we count how often each character is mentioned and return the most frequently mentioned one. As an additional constraint it has to be mentioned more than three times.\n",
        "\n",
        "Further, we identify all correference of that identified character. To do so we use the spaCY based Neuralcoref library. We identify all characters in the text (if this sounds redundant, it's because as mentioned earlier we had identified the main character prior to annotation). We search for all correference clusters containing our identified character. We then analyze the correference resolved text and filter it for sentences containing our character. We export the original sentence, the correference resolved and an [ENTITY] sentence. For the [ENTITY] sentence we replace each character mention with this tag. Finally we return all sentences and save them as pandas dataframe."
      ]
    },
    {
      "cell_type": "code",
      "execution_count": null,
      "metadata": {
        "id": "WF6fFNQFpR4X"
      },
      "outputs": [],
      "source": [
        "def get_main_character(summary):\n",
        "    nlp_summary = nlp_en_core_web_sm(summary)\n",
        "    persons = [ent.text for ent in nlp_summary.ents if ent.label_ == 'PERSON']\n",
        "    \n",
        "    # unite first and last names\n",
        "    for idx, person_i in enumerate(persons):\n",
        "      for person_j in persons:\n",
        "        if person_i in person_j and len(person_i) < len(person_j):\n",
        "          persons[idx] = person_j\n",
        "        \n",
        "    # get unique names\n",
        "    persons = set(persons)\n",
        "    \n",
        "    def split_name(full_name):\n",
        "        parts = full_name.split(\" \")\n",
        "        first_name = parts[0]\n",
        "        last_name = \"\" if len(parts) < 2 else parts[1]\n",
        "        return first_name, last_name\n",
        "    \n",
        "    def countOccurrences(summary, full_name):\n",
        "        first_name, last_name = split_name(full_name)\n",
        "        \n",
        "        first_name_count = summary.count(first_name) if first_name != \"\" else 0\n",
        "        last_name_count = summary.count(last_name) if last_name != \"\" else 0\n",
        "        full_name_count = summary.count(full_name) if full_name != \"\" and last_name != \"\" and first_name != \"\"  else 0\n",
        "        return first_name_count + last_name_count - full_name_count\n",
        "        \n",
        "    counter = {}\n",
        "    for idx, person in enumerate(persons):\n",
        "        occurences = countOccurrences(summary, person)\n",
        "        counter[person] = occurences\n",
        "    \n",
        "    first_name, last_name, count = \"\", \"\", 0\n",
        "    if len(counter) > 0:\n",
        "        best_guess = max(counter, key= lambda x: counter[x])\n",
        "        count = counter[best_guess]\n",
        "        first_name, last_name = split_name(best_guess)\n",
        "    \n",
        "    min_count = 3\n",
        "    if count >= min_count:\n",
        "            return first_name, last_name\n",
        "        \n",
        "    return \"\", \"\""
      ]
    },
    {
      "cell_type": "code",
      "execution_count": null,
      "metadata": {
        "id": "NF-UGocUnHOn"
      },
      "outputs": [],
      "source": [
        "def get_correferences_count(clusters, first_name, last_name):\n",
        "    \n",
        "    full_name = first_name + \" \" + last_name\n",
        "    \n",
        "    mentions = []\n",
        "    mains = []\n",
        "    \n",
        "    # filter clusters for mentioning of character\n",
        "    for cluster in clusters:\n",
        "        if full_name in str(cluster.mentions) \\\n",
        "        or first_name in str(cluster.mentions) \\\n",
        "        or first_name == \"\" and last_name in str(cluster.mentions):\n",
        "            mentions.append(cluster.mentions)\n",
        "            mains.append(cluster.main)\n",
        "    \n",
        "    mentions = [str(item) for sublist in mentions for item in sublist]\n",
        "    mains = [str(item) for item in mains]\n",
        "    \n",
        "    return dict(Counter(mentions)), mains\n",
        "\n",
        "def get_correferences_sentences(summary, summary_new, correference_count, mains, first_name, last_name):\n",
        "    \n",
        "    old_sentences = nltk.tokenize.sent_tokenize(summary)\n",
        "    new_sentences = nltk.tokenize.sent_tokenize(summary_new)\n",
        "    \n",
        "    # add first name and last name, if no mentioning of character was detected\n",
        "    if len(mains) == 0:\n",
        "        if first_name != \"\": mains.append(first_name)\n",
        "        if last_name != \"\": mains.append(last_name)\n",
        "    \n",
        "    # extract original sentences where character or its correference is mentioned\n",
        "    correference_sentences = []\n",
        "    for idx, sentence in enumerate(new_sentences):\n",
        "        if idx < len(old_sentences):\n",
        "            entity_sentence = sentence\n",
        "            \n",
        "            # correferences = []\n",
        "            included = False\n",
        "            for main in mains:\n",
        "                if main in sentence:\n",
        "                    included = True\n",
        "                    entity_sentence = entity_sentence.replace(main, '[ENTITY]')\n",
        "\n",
        "            if included:\n",
        "                correference_sentences.append((entity_sentence, old_sentences[idx], new_sentences[idx]))\n",
        "\n",
        "    return correference_sentences\n",
        "\n",
        "def get_entity_text(summary_new, mains, first_name, last_name):\n",
        "    entity_text = summary_new\n",
        "    for main in mains:\n",
        "        entity_text = entity_text.replace(main, '[ENTITY]')\n",
        "        \n",
        "    if first_name != \"\":\n",
        "        entity_text = entity_text.replace(first_name, '[ENTITY]')\n",
        "    if last_name != \"\":\n",
        "        entity_text = entity_text.replace(last_name, '[ENTITY]')\n",
        "    \n",
        "    return entity_text\n",
        "    \n",
        "\n",
        "def get_correferences(summary, first_name, last_name):\n",
        "    doc = nlp(summary)\n",
        "    clusters = doc._.coref_clusters\n",
        "    \n",
        "    correference_count, mains = get_correferences_count(clusters, first_name, last_name)\n",
        "    correference_sentences = get_correferences_sentences(summary,  doc._.coref_resolved, correference_count, mains, first_name, last_name)\n",
        "    entity_text = get_entity_text(doc._.coref_resolved, mains, first_name, last_name)\n",
        "\n",
        "    return correference_count, entity_text, doc._.coref_resolved, correference_sentences"
      ]
    },
    {
      "cell_type": "code",
      "execution_count": null,
      "metadata": {
        "colab": {
          "base_uri": "https://localhost:8080/",
          "height": 413
        },
        "id": "GovD6czEnyk1",
        "outputId": "776639f0-2089-40a2-ad2d-986b2cac044c"
      },
      "outputs": [
        {
          "name": "stderr",
          "output_type": "stream",
          "text": [
            "100%|██████████| 1000/1000 [03:18<00:00,  5.04it/s]\n"
          ]
        },
        {
          "data": {
            "text/html": [
              "\n",
              "  <div id=\"df-31bf5c37-ac35-4d91-800a-2cab741afd2b\">\n",
              "    <div class=\"colab-df-container\">\n",
              "      <div>\n",
              "<style scoped>\n",
              "    .dataframe tbody tr th:only-of-type {\n",
              "        vertical-align: middle;\n",
              "    }\n",
              "\n",
              "    .dataframe tbody tr th {\n",
              "        vertical-align: top;\n",
              "    }\n",
              "\n",
              "    .dataframe thead th {\n",
              "        text-align: right;\n",
              "    }\n",
              "</style>\n",
              "<table border=\"1\" class=\"dataframe\">\n",
              "  <thead>\n",
              "    <tr style=\"text-align: right;\">\n",
              "      <th></th>\n",
              "      <th>book_id</th>\n",
              "      <th>first_name</th>\n",
              "      <th>last_name</th>\n",
              "      <th>entity_text</th>\n",
              "      <th>original_text</th>\n",
              "      <th>replaced_text</th>\n",
              "    </tr>\n",
              "  </thead>\n",
              "  <tbody>\n",
              "    <tr>\n",
              "      <th>0</th>\n",
              "      <td>34727935</td>\n",
              "      <td>le</td>\n",
              "      <td>manuel</td>\n",
              "      <td>Quand [ENTITY] magizoologiste Norbert Dragonne...</td>\n",
              "      <td>Quand le magizoologiste Norbert Dragonneau arr...</td>\n",
              "      <td>Quand le magizoologiste Norbert Dragonneau arr...</td>\n",
              "    </tr>\n",
              "    <tr>\n",
              "      <th>1</th>\n",
              "      <td>13343514</td>\n",
              "      <td>Lucy</td>\n",
              "      <td>Desberg</td>\n",
              "      <td>[ENTITY] is a natural problem solver. After th...</td>\n",
              "      <td>Twelve-year-old Lucy Desberg is a natural prob...</td>\n",
              "      <td>Twelve-year-old Lucy Desberg is a natural prob...</td>\n",
              "    </tr>\n",
              "    <tr>\n",
              "      <th>2</th>\n",
              "      <td>10990017</td>\n",
              "      <td>Lucy</td>\n",
              "      <td></td>\n",
              "      <td>Every winter, straight-laced, Ivy League bound...</td>\n",
              "      <td>Every winter, straight-laced, Ivy League bound...</td>\n",
              "      <td>Every winter, straight-laced, Ivy League bound...</td>\n",
              "    </tr>\n",
              "    <tr>\n",
              "      <th>3</th>\n",
              "      <td>358187</td>\n",
              "      <td>Darcy</td>\n",
              "      <td></td>\n",
              "      <td>It is 1974 and the country is still struggling...</td>\n",
              "      <td>It is 1974 and the country is still struggling...</td>\n",
              "      <td>It is 1974 and the country is still struggling...</td>\n",
              "    </tr>\n",
              "    <tr>\n",
              "      <th>4</th>\n",
              "      <td>28256471</td>\n",
              "      <td>Lara</td>\n",
              "      <td></td>\n",
              "      <td>[ENTITY] just got told off on Facebook.[ENTITY...</td>\n",
              "      <td>Lara just got told off on Facebook.She thought...</td>\n",
              "      <td>Lara just got told off on Facebook.Lara though...</td>\n",
              "    </tr>\n",
              "  </tbody>\n",
              "</table>\n",
              "</div>\n",
              "      <button class=\"colab-df-convert\" onclick=\"convertToInteractive('df-31bf5c37-ac35-4d91-800a-2cab741afd2b')\"\n",
              "              title=\"Convert this dataframe to an interactive table.\"\n",
              "              style=\"display:none;\">\n",
              "        \n",
              "  <svg xmlns=\"http://www.w3.org/2000/svg\" height=\"24px\"viewBox=\"0 0 24 24\"\n",
              "       width=\"24px\">\n",
              "    <path d=\"M0 0h24v24H0V0z\" fill=\"none\"/>\n",
              "    <path d=\"M18.56 5.44l.94 2.06.94-2.06 2.06-.94-2.06-.94-.94-2.06-.94 2.06-2.06.94zm-11 1L8.5 8.5l.94-2.06 2.06-.94-2.06-.94L8.5 2.5l-.94 2.06-2.06.94zm10 10l.94 2.06.94-2.06 2.06-.94-2.06-.94-.94-2.06-.94 2.06-2.06.94z\"/><path d=\"M17.41 7.96l-1.37-1.37c-.4-.4-.92-.59-1.43-.59-.52 0-1.04.2-1.43.59L10.3 9.45l-7.72 7.72c-.78.78-.78 2.05 0 2.83L4 21.41c.39.39.9.59 1.41.59.51 0 1.02-.2 1.41-.59l7.78-7.78 2.81-2.81c.8-.78.8-2.07 0-2.86zM5.41 20L4 18.59l7.72-7.72 1.47 1.35L5.41 20z\"/>\n",
              "  </svg>\n",
              "      </button>\n",
              "      \n",
              "  <style>\n",
              "    .colab-df-container {\n",
              "      display:flex;\n",
              "      flex-wrap:wrap;\n",
              "      gap: 12px;\n",
              "    }\n",
              "\n",
              "    .colab-df-convert {\n",
              "      background-color: #E8F0FE;\n",
              "      border: none;\n",
              "      border-radius: 50%;\n",
              "      cursor: pointer;\n",
              "      display: none;\n",
              "      fill: #1967D2;\n",
              "      height: 32px;\n",
              "      padding: 0 0 0 0;\n",
              "      width: 32px;\n",
              "    }\n",
              "\n",
              "    .colab-df-convert:hover {\n",
              "      background-color: #E2EBFA;\n",
              "      box-shadow: 0px 1px 2px rgba(60, 64, 67, 0.3), 0px 1px 3px 1px rgba(60, 64, 67, 0.15);\n",
              "      fill: #174EA6;\n",
              "    }\n",
              "\n",
              "    [theme=dark] .colab-df-convert {\n",
              "      background-color: #3B4455;\n",
              "      fill: #D2E3FC;\n",
              "    }\n",
              "\n",
              "    [theme=dark] .colab-df-convert:hover {\n",
              "      background-color: #434B5C;\n",
              "      box-shadow: 0px 1px 3px 1px rgba(0, 0, 0, 0.15);\n",
              "      filter: drop-shadow(0px 1px 2px rgba(0, 0, 0, 0.3));\n",
              "      fill: #FFFFFF;\n",
              "    }\n",
              "  </style>\n",
              "\n",
              "      <script>\n",
              "        const buttonEl =\n",
              "          document.querySelector('#df-31bf5c37-ac35-4d91-800a-2cab741afd2b button.colab-df-convert');\n",
              "        buttonEl.style.display =\n",
              "          google.colab.kernel.accessAllowed ? 'block' : 'none';\n",
              "\n",
              "        async function convertToInteractive(key) {\n",
              "          const element = document.querySelector('#df-31bf5c37-ac35-4d91-800a-2cab741afd2b');\n",
              "          const dataTable =\n",
              "            await google.colab.kernel.invokeFunction('convertToInteractive',\n",
              "                                                     [key], {});\n",
              "          if (!dataTable) return;\n",
              "\n",
              "          const docLinkHtml = 'Like what you see? Visit the ' +\n",
              "            '<a target=\"_blank\" href=https://colab.research.google.com/notebooks/data_table.ipynb>data table notebook</a>'\n",
              "            + ' to learn more about interactive tables.';\n",
              "          element.innerHTML = '';\n",
              "          dataTable['output_type'] = 'display_data';\n",
              "          await google.colab.output.renderOutput(dataTable, element);\n",
              "          const docLink = document.createElement('div');\n",
              "          docLink.innerHTML = docLinkHtml;\n",
              "          element.appendChild(docLink);\n",
              "        }\n",
              "      </script>\n",
              "    </div>\n",
              "  </div>\n",
              "  "
            ],
            "text/plain": [
              "    book_id first_name last_name  \\\n",
              "0  34727935         le    manuel   \n",
              "1  13343514       Lucy   Desberg   \n",
              "2  10990017       Lucy             \n",
              "3    358187      Darcy             \n",
              "4  28256471       Lara             \n",
              "\n",
              "                                         entity_text  \\\n",
              "0  Quand [ENTITY] magizoologiste Norbert Dragonne...   \n",
              "1  [ENTITY] is a natural problem solver. After th...   \n",
              "2  Every winter, straight-laced, Ivy League bound...   \n",
              "3  It is 1974 and the country is still struggling...   \n",
              "4  [ENTITY] just got told off on Facebook.[ENTITY...   \n",
              "\n",
              "                                       original_text  \\\n",
              "0  Quand le magizoologiste Norbert Dragonneau arr...   \n",
              "1  Twelve-year-old Lucy Desberg is a natural prob...   \n",
              "2  Every winter, straight-laced, Ivy League bound...   \n",
              "3  It is 1974 and the country is still struggling...   \n",
              "4  Lara just got told off on Facebook.She thought...   \n",
              "\n",
              "                                       replaced_text  \n",
              "0  Quand le magizoologiste Norbert Dragonneau arr...  \n",
              "1  Twelve-year-old Lucy Desberg is a natural prob...  \n",
              "2  Every winter, straight-laced, Ivy League bound...  \n",
              "3  It is 1974 and the country is still struggling...  \n",
              "4  Lara just got told off on Facebook.Lara though...  "
            ]
          },
          "metadata": {},
          "output_type": "display_data"
        },
        {
          "data": {
            "text/html": [
              "\n",
              "  <div id=\"df-6eca5a70-d33e-4fef-ab53-c3438f7c4e8e\">\n",
              "    <div class=\"colab-df-container\">\n",
              "      <div>\n",
              "<style scoped>\n",
              "    .dataframe tbody tr th:only-of-type {\n",
              "        vertical-align: middle;\n",
              "    }\n",
              "\n",
              "    .dataframe tbody tr th {\n",
              "        vertical-align: top;\n",
              "    }\n",
              "\n",
              "    .dataframe thead th {\n",
              "        text-align: right;\n",
              "    }\n",
              "</style>\n",
              "<table border=\"1\" class=\"dataframe\">\n",
              "  <thead>\n",
              "    <tr style=\"text-align: right;\">\n",
              "      <th></th>\n",
              "      <th>book_id</th>\n",
              "      <th>first_name</th>\n",
              "      <th>last_name</th>\n",
              "      <th>entity_sentence</th>\n",
              "      <th>original_sentence</th>\n",
              "      <th>replaced_sentence</th>\n",
              "    </tr>\n",
              "  </thead>\n",
              "  <tbody>\n",
              "    <tr>\n",
              "      <th>0</th>\n",
              "      <td>34727935</td>\n",
              "      <td>le</td>\n",
              "      <td>manuel</td>\n",
              "      <td>Quand [ENTITY] magizoologiste Norbert Dragonne...</td>\n",
              "      <td>Quand le magizoologiste Norbert Dragonneau arr...</td>\n",
              "      <td>Quand le magizoologiste Norbert Dragonneau arr...</td>\n",
              "    </tr>\n",
              "    <tr>\n",
              "      <th>1</th>\n",
              "      <td>34727935</td>\n",
              "      <td>le</td>\n",
              "      <td>manuel</td>\n",
              "      <td>Mais sa valise magique est egaree et certains ...</td>\n",
              "      <td>Mais sa valise magique est egaree et certains ...</td>\n",
              "      <td>Mais sa valise magique est egaree et certains ...</td>\n",
              "    </tr>\n",
              "    <tr>\n",
              "      <th>2</th>\n",
              "      <td>34727935</td>\n",
              "      <td>le</td>\n",
              "      <td>manuel</td>\n",
              "      <td>Les ennuis commencent alors... pour tout [ENTI...</td>\n",
              "      <td>Les ennuis commencent alors... pour tout le mo...</td>\n",
              "      <td>Les ennuis commencent alors... pour tout le mo...</td>\n",
              "    </tr>\n",
              "    <tr>\n",
              "      <th>3</th>\n",
              "      <td>34727935</td>\n",
              "      <td>le</td>\n",
              "      <td>manuel</td>\n",
              "      <td>Eclatante d'imagination et racontee de main de...</td>\n",
              "      <td>Eclatante d'imagination et racontee de main de...</td>\n",
              "      <td>Eclatante d'imagination et racontee de main de...</td>\n",
              "    </tr>\n",
              "    <tr>\n",
              "      <th>4</th>\n",
              "      <td>34727935</td>\n",
              "      <td>le</td>\n",
              "      <td>manuel</td>\n",
              "      <td>Que l'on soit deja fan, ou nouveau dans [ENTIT...</td>\n",
              "      <td>Que l'on soit deja fan, ou nouveau dans le Mon...</td>\n",
              "      <td>Que l'on soit deja fan, ou nouveau dans le Mon...</td>\n",
              "    </tr>\n",
              "  </tbody>\n",
              "</table>\n",
              "</div>\n",
              "      <button class=\"colab-df-convert\" onclick=\"convertToInteractive('df-6eca5a70-d33e-4fef-ab53-c3438f7c4e8e')\"\n",
              "              title=\"Convert this dataframe to an interactive table.\"\n",
              "              style=\"display:none;\">\n",
              "        \n",
              "  <svg xmlns=\"http://www.w3.org/2000/svg\" height=\"24px\"viewBox=\"0 0 24 24\"\n",
              "       width=\"24px\">\n",
              "    <path d=\"M0 0h24v24H0V0z\" fill=\"none\"/>\n",
              "    <path d=\"M18.56 5.44l.94 2.06.94-2.06 2.06-.94-2.06-.94-.94-2.06-.94 2.06-2.06.94zm-11 1L8.5 8.5l.94-2.06 2.06-.94-2.06-.94L8.5 2.5l-.94 2.06-2.06.94zm10 10l.94 2.06.94-2.06 2.06-.94-2.06-.94-.94-2.06-.94 2.06-2.06.94z\"/><path d=\"M17.41 7.96l-1.37-1.37c-.4-.4-.92-.59-1.43-.59-.52 0-1.04.2-1.43.59L10.3 9.45l-7.72 7.72c-.78.78-.78 2.05 0 2.83L4 21.41c.39.39.9.59 1.41.59.51 0 1.02-.2 1.41-.59l7.78-7.78 2.81-2.81c.8-.78.8-2.07 0-2.86zM5.41 20L4 18.59l7.72-7.72 1.47 1.35L5.41 20z\"/>\n",
              "  </svg>\n",
              "      </button>\n",
              "      \n",
              "  <style>\n",
              "    .colab-df-container {\n",
              "      display:flex;\n",
              "      flex-wrap:wrap;\n",
              "      gap: 12px;\n",
              "    }\n",
              "\n",
              "    .colab-df-convert {\n",
              "      background-color: #E8F0FE;\n",
              "      border: none;\n",
              "      border-radius: 50%;\n",
              "      cursor: pointer;\n",
              "      display: none;\n",
              "      fill: #1967D2;\n",
              "      height: 32px;\n",
              "      padding: 0 0 0 0;\n",
              "      width: 32px;\n",
              "    }\n",
              "\n",
              "    .colab-df-convert:hover {\n",
              "      background-color: #E2EBFA;\n",
              "      box-shadow: 0px 1px 2px rgba(60, 64, 67, 0.3), 0px 1px 3px 1px rgba(60, 64, 67, 0.15);\n",
              "      fill: #174EA6;\n",
              "    }\n",
              "\n",
              "    [theme=dark] .colab-df-convert {\n",
              "      background-color: #3B4455;\n",
              "      fill: #D2E3FC;\n",
              "    }\n",
              "\n",
              "    [theme=dark] .colab-df-convert:hover {\n",
              "      background-color: #434B5C;\n",
              "      box-shadow: 0px 1px 3px 1px rgba(0, 0, 0, 0.15);\n",
              "      filter: drop-shadow(0px 1px 2px rgba(0, 0, 0, 0.3));\n",
              "      fill: #FFFFFF;\n",
              "    }\n",
              "  </style>\n",
              "\n",
              "      <script>\n",
              "        const buttonEl =\n",
              "          document.querySelector('#df-6eca5a70-d33e-4fef-ab53-c3438f7c4e8e button.colab-df-convert');\n",
              "        buttonEl.style.display =\n",
              "          google.colab.kernel.accessAllowed ? 'block' : 'none';\n",
              "\n",
              "        async function convertToInteractive(key) {\n",
              "          const element = document.querySelector('#df-6eca5a70-d33e-4fef-ab53-c3438f7c4e8e');\n",
              "          const dataTable =\n",
              "            await google.colab.kernel.invokeFunction('convertToInteractive',\n",
              "                                                     [key], {});\n",
              "          if (!dataTable) return;\n",
              "\n",
              "          const docLinkHtml = 'Like what you see? Visit the ' +\n",
              "            '<a target=\"_blank\" href=https://colab.research.google.com/notebooks/data_table.ipynb>data table notebook</a>'\n",
              "            + ' to learn more about interactive tables.';\n",
              "          element.innerHTML = '';\n",
              "          dataTable['output_type'] = 'display_data';\n",
              "          await google.colab.output.renderOutput(dataTable, element);\n",
              "          const docLink = document.createElement('div');\n",
              "          docLink.innerHTML = docLinkHtml;\n",
              "          element.appendChild(docLink);\n",
              "        }\n",
              "      </script>\n",
              "    </div>\n",
              "  </div>\n",
              "  "
            ],
            "text/plain": [
              "    book_id first_name last_name  \\\n",
              "0  34727935         le    manuel   \n",
              "1  34727935         le    manuel   \n",
              "2  34727935         le    manuel   \n",
              "3  34727935         le    manuel   \n",
              "4  34727935         le    manuel   \n",
              "\n",
              "                                     entity_sentence  \\\n",
              "0  Quand [ENTITY] magizoologiste Norbert Dragonne...   \n",
              "1  Mais sa valise magique est egaree et certains ...   \n",
              "2  Les ennuis commencent alors... pour tout [ENTI...   \n",
              "3  Eclatante d'imagination et racontee de main de...   \n",
              "4  Que l'on soit deja fan, ou nouveau dans [ENTIT...   \n",
              "\n",
              "                                   original_sentence  \\\n",
              "0  Quand le magizoologiste Norbert Dragonneau arr...   \n",
              "1  Mais sa valise magique est egaree et certains ...   \n",
              "2  Les ennuis commencent alors... pour tout le mo...   \n",
              "3  Eclatante d'imagination et racontee de main de...   \n",
              "4  Que l'on soit deja fan, ou nouveau dans le Mon...   \n",
              "\n",
              "                                   replaced_sentence  \n",
              "0  Quand le magizoologiste Norbert Dragonneau arr...  \n",
              "1  Mais sa valise magique est egaree et certains ...  \n",
              "2  Les ennuis commencent alors... pour tout le mo...  \n",
              "3  Eclatante d'imagination et racontee de main de...  \n",
              "4  Que l'on soit deja fan, ou nouveau dans le Mon...  "
            ]
          },
          "metadata": {},
          "output_type": "display_data"
        }
      ],
      "source": [
        "data = pd.concat([train, dev, test])\n",
        "\n",
        "df_correference_sentences = pd.DataFrame() # id | book_id, entity_sentence, original_sentence, replaced_sentence\n",
        "df_correference_text = pd.DataFrame() # id | book_id, entity_text, original_text, replaced_text\n",
        "\n",
        "n = data.shape[0]\n",
        "\n",
        "for book_id, book in tqdm(data.head(n).iterrows(), total=n):\n",
        "    first_name, last_name = get_main_character(book['text'])\n",
        "    correference_count, entity_text, correference_text, correference_sentences = get_correferences(book['text'], first_name, last_name)\n",
        "\n",
        "    df_text = pd.DataFrame([[book_id, first_name, last_name, entity_text, book['text'], correference_text]], columns=['book_id', 'first_name', 'last_name', 'entity_text', 'original_text', 'replaced_text'])\n",
        "    df_correference_text = pd.concat([df_correference_text, df_text], ignore_index=True)\n",
        "    \n",
        "    df_sentences = pd.DataFrame(correference_sentences, columns=['entity_sentence', 'original_sentence', 'replaced_sentence'])\n",
        "    df_sentences = df_sentences.assign(book_id=book_id)\n",
        "    df_sentences = df_sentences.assign(first_name=first_name)\n",
        "    df_sentences = df_sentences.assign(last_name=last_name)\n",
        "\n",
        "    # to ensure that book 13483233 is included\n",
        "    if df_sentences.shape[0] == 0:\n",
        "      df_sentences = pd.DataFrame([[first_name, last_name, \"\", \"\", \"\"]], columns=['first_name', 'last_name', 'entity_sentence', 'original_sentence', 'replaced_sentence'])\n",
        "      df_sentences = df_sentences.assign(book_id=book_id)\n",
        "\n",
        "    df_correference_sentences = pd.concat([df_correference_sentences, df_sentences], ignore_index=True)\n",
        "\n",
        "# reorder columns\n",
        "df_correference_sentences = df_correference_sentences[['book_id', 'first_name', 'last_name', 'entity_sentence', 'original_sentence', 'replaced_sentence']]\n",
        "\n",
        "display(df_correference_text.head())\n",
        "display(df_correference_sentences.head())"
      ]
    },
    {
      "cell_type": "code",
      "execution_count": null,
      "metadata": {
        "id": "Vi3DOfcFHisz"
      },
      "outputs": [],
      "source": [
        "# save results to gdrive to allow reloading it if necesseary\n",
        "df_correference_text.to_csv(root_path + 'temp/df_correference_text.csv')\n",
        "df_correference_sentences.to_csv(root_path + 'temp/df_correference_sentences.csv')"
      ]
    },
    {
      "cell_type": "code",
      "execution_count": null,
      "metadata": {
        "id": "9iHvowS1HxcZ"
      },
      "outputs": [],
      "source": [
        "# load results from gdrive instead of computing them again\n",
        "df_correference_text = pd.read_csv(root_path + 'temp/df_correference_text.csv', index_col=0).fillna('')\n",
        "df_correference_sentences = pd.read_csv(root_path + 'temp/df_correference_sentences.csv', index_col=0).fillna('')"
      ]
    },
    {
      "cell_type": "markdown",
      "metadata": {
        "id": "qiD0mJoijwxk"
      },
      "source": [
        "# Run BERT model on character sentences \n",
        "To train our model on sentences rather than the entire text, we use the above created sentence dataset. We split the dataset in train, dev and test according to their book_id (using the split provided). We first evaluate the model's sentence-based accuracy. Then, we adjudicate the labels for each book by majority vote and evaluate the accuracy again.\n",
        "\n"
      ]
    },
    {
      "cell_type": "code",
      "execution_count": null,
      "metadata": {
        "colab": {
          "base_uri": "https://localhost:8080/"
        },
        "id": "sZKUe1Vdj18t",
        "outputId": "05328490-64a1-40dd-9656-cfc6c917e085"
      },
      "outputs": [
        {
          "name": "stdout",
          "output_type": "stream",
          "text": [
            "Training data:  2917\n",
            "Evaluation data:  970\n",
            "Test data:  990\n"
          ]
        }
      ],
      "source": [
        "target = 'label'\n",
        "feature = 'original_sentence'\n",
        "\n",
        "train_sentences = df_correference_sentences[df_correference_sentences['book_id'].isin(train_ID)].merge(train['label'], left_on='book_id', right_index=True)\n",
        "dev_sentences = df_correference_sentences[df_correference_sentences['book_id'].isin(dev_ID)].merge(dev['label'], left_on='book_id', right_index=True)\n",
        "test_sentences = df_correference_sentences[df_correference_sentences['book_id'].isin(test_ID)].merge(test['label'], left_on='book_id', right_index=True)\n",
        "\n",
        "train_text = df_correference_text[df_correference_text['book_id'].isin(train_ID)].merge(train['label'], left_on='book_id', right_index=True)\n",
        "dev_text = df_correference_text[df_correference_text['book_id'].isin(dev_ID)].merge(dev['label'], left_on='book_id', right_index=True)\n",
        "test_text = df_correference_text[df_correference_text['book_id'].isin(test_ID)].merge(test['label'], left_on='book_id', right_index=True)\n",
        "\n",
        "X_train = list(train_sentences[feature].values)\n",
        "y_train = list(train_sentences[target].values)\n",
        "\n",
        "X_dev = list(dev_sentences[feature].values)\n",
        "y_dev = list(dev_sentences[target].values)\n",
        "\n",
        "X_test = list(test_sentences[feature].values)\n",
        "y_test = list(test_sentences[target].values)\n",
        "\n",
        "print('Training data: ', len(X_train))\n",
        "print('Evaluation data: ', len(X_dev))\n",
        "print('Test data: ', len(X_test))"
      ]
    },
    {
      "cell_type": "code",
      "execution_count": null,
      "metadata": {
        "colab": {
          "base_uri": "https://localhost:8080/"
        },
        "id": "kI1c5Zzb0iaT",
        "outputId": "bba7a83c-41b5-449a-c497-56735f6f3b60"
      },
      "outputs": [
        {
          "name": "stderr",
          "output_type": "stream",
          "text": [
            "Some weights of the model checkpoint at bert-base-cased were not used when initializing BertModel: ['cls.predictions.transform.LayerNorm.bias', 'cls.predictions.decoder.weight', 'cls.seq_relationship.weight', 'cls.seq_relationship.bias', 'cls.predictions.transform.dense.weight', 'cls.predictions.bias', 'cls.predictions.transform.dense.bias', 'cls.predictions.transform.LayerNorm.weight']\n",
            "- This IS expected if you are initializing BertModel from the checkpoint of a model trained on another task or with another architecture (e.g. initializing a BertForSequenceClassification model from a BertForPreTraining model).\n",
            "- This IS NOT expected if you are initializing BertModel from the checkpoint of a model that you expect to be exactly identical (initializing a BertForSequenceClassification model from a BertForSequenceClassification model).\n",
            "100%|██████████| 92/92 [00:48<00:00,  1.90it/s]\n"
          ]
        },
        {
          "name": "stdout",
          "output_type": "stream",
          "text": [
            "Epoch 0, dev accuracy: 0.368\n"
          ]
        },
        {
          "name": "stderr",
          "output_type": "stream",
          "text": [
            "100%|██████████| 92/92 [00:51<00:00,  1.79it/s]\n"
          ]
        },
        {
          "name": "stdout",
          "output_type": "stream",
          "text": [
            "Epoch 1, dev accuracy: 0.489\n"
          ]
        },
        {
          "name": "stderr",
          "output_type": "stream",
          "text": [
            "100%|██████████| 92/92 [00:51<00:00,  1.77it/s]\n"
          ]
        },
        {
          "name": "stdout",
          "output_type": "stream",
          "text": [
            "Epoch 2, dev accuracy: 0.504\n"
          ]
        },
        {
          "name": "stderr",
          "output_type": "stream",
          "text": [
            "100%|██████████| 92/92 [00:51<00:00,  1.78it/s]\n"
          ]
        },
        {
          "name": "stdout",
          "output_type": "stream",
          "text": [
            "Epoch 3, dev accuracy: 0.502\n"
          ]
        },
        {
          "name": "stderr",
          "output_type": "stream",
          "text": [
            "100%|██████████| 92/92 [00:51<00:00,  1.78it/s]\n"
          ]
        },
        {
          "name": "stdout",
          "output_type": "stream",
          "text": [
            "Epoch 4, dev accuracy: 0.501\n",
            "\n",
            "Best Performing Model achieves dev accuracy of : 0.504\n",
            "Time: 301.709 seconds ---\n"
          ]
        }
      ],
      "source": [
        "bert_model = train_and_evaluate(\"bert-base-cased\", \"bert-trained.pt\", X_train, y_train, X_dev, y_dev, labels, embedding_size=768, doLowerCase=False)\n",
        "test_batch_x, test_batch_y = bert_model.get_batches(X_test, y_test)\n",
        "yhat_test = make_predictions(bert_model, test_batch_x, labels)"
      ]
    },
    {
      "cell_type": "code",
      "execution_count": null,
      "metadata": {
        "colab": {
          "base_uri": "https://localhost:8080/",
          "height": 380
        },
        "id": "JI2dcD770s9l",
        "outputId": "31a14573-8edf-408a-a175-057bfc3d1dc7"
      },
      "outputs": [
        {
          "name": "stdout",
          "output_type": "stream",
          "text": [
            "Accuracy on test set: 0.491, 95% CIs: [0.460 0.522]\n"
          ]
        },
        {
          "data": {
            "image/png": "[encoded data removed]",
            "text/plain": [
              "<Figure size 432x288 with 2 Axes>"
            ]
          },
          "metadata": {},
          "output_type": "display_data"
        }
      ],
      "source": [
        "y_test_labels = [labels[x] for x in y_test]\n",
        "\n",
        "lower, upper=confidence_intervals(accuracy_score(y_test_labels, yhat_test), len(y_test_labels), .95)\n",
        "print('Accuracy on test set: %.3f, 95%% CIs: [%.3f %.3f]' % (accuracy_score(y_test_labels, yhat_test), lower, upper))\n",
        "cm = confusion_matrix(y_test_labels, yhat_test, labels=labels)\n",
        "disp = ConfusionMatrixDisplay(cm, display_labels=labels)\n",
        "disp.plot(cmap=plt.cm.Blues,values_format='g')\n",
        "plt.grid(visible=None)\n",
        "plt.xticks(rotation=90)\n",
        "plt.savefig(root_path + 'plots/BERT_sentence_confusion', format='pdf', bbox_inches=\"tight\")\n",
        "plt.show()"
      ]
    },
    {
      "cell_type": "code",
      "execution_count": null,
      "metadata": {
        "colab": {
          "base_uri": "https://localhost:8080/",
          "height": 397
        },
        "id": "uJFtjGMP1tw_",
        "outputId": "854ff2eb-3e95-4a76-833c-865900e81686"
      },
      "outputs": [
        {
          "name": "stdout",
          "output_type": "stream",
          "text": [
            "Baseline - majority-class on test set: 0.355\n",
            "Accuracy on test set - adjudicated: 0.550, 95% CIs: [0.481 0.619]\n"
          ]
        },
        {
          "data": {
            "image/png": "[encoded data removed]",
            "text/plain": [
              "<Figure size 432x288 with 2 Axes>"
            ]
          },
          "metadata": {},
          "output_type": "display_data"
        }
      ],
      "source": [
        "# Transform multiple labels (eg. Sentence or reviews) in adjudicated label\n",
        "\n",
        "import collections\n",
        "\n",
        "prediction_dict = collections.defaultdict(list)\n",
        "book_ids = test_sentences.book_id.values\n",
        "\n",
        "for i, prediction in enumerate(yhat_test):\n",
        "  prediction_dict[book_ids[i]].append(prediction)\n",
        "\n",
        "for k, v in prediction_dict.items():\n",
        "  prediction_dict[k] = Counter(v).most_common(1)[0][0]\n",
        "\n",
        "book_predictions = list(prediction_dict.values())\n",
        "book_label = test.copy()\n",
        "book_label[target] = [labels[x] for x in test[target]]\n",
        "\n",
        "predictions_df = pd.DataFrame(book_predictions, columns=['prediction'], index=prediction_dict.keys())\n",
        "predictions_df = predictions_df.merge(book_label[target], left_index=True, right_index=True)\n",
        "\n",
        "majority_class = [Counter(predictions_df[target]).most_common(1)[0][0]] * len(predictions_df[target])\n",
        "print('Baseline - majority-class on test set: %.3f' % accuracy_score(predictions_df[target], majority_class))\n",
        "\n",
        "lower, upper=confidence_intervals(accuracy_score(predictions_df[target], predictions_df['prediction']), len(predictions_df[target]), .95)\n",
        "print('Accuracy on test set - adjudicated: %.3f, 95%% CIs: [%.3f %.3f]' % (accuracy_score(predictions_df[target], predictions_df['prediction']), lower, upper))\n",
        "cm = confusion_matrix(predictions_df[target], predictions_df['prediction'], labels=labels)\n",
        "disp = ConfusionMatrixDisplay(cm, display_labels=labels)\n",
        "disp.plot(cmap=plt.cm.Blues,values_format='g')\n",
        "plt.grid(visible=None)\n",
        "plt.xticks(rotation=90)\n",
        "plt.savefig(root_path + 'plots/BERT_sentence_adjudicated_confusion', format='pdf', bbox_inches=\"tight\")\n",
        "plt.show()"
      ]
    },
    {
      "cell_type": "markdown",
      "metadata": {
        "id": "vEp0VtbXg_Nk"
      },
      "source": [
        "# Detailed analysis BERT sentence Model"
      ]
    },
    {
      "cell_type": "code",
      "execution_count": null,
      "metadata": {
        "colab": {
          "base_uri": "https://localhost:8080/",
          "height": 423
        },
        "id": "UH3evAVpFGN4",
        "outputId": "06e507ec-c116-40ad-f4f9-132b0152d87b"
      },
      "outputs": [
        {
          "data": {
            "text/html": [
              "\n",
              "  <div id=\"df-6042693e-7de6-431c-9165-3450e07d2d61\">\n",
              "    <div class=\"colab-df-container\">\n",
              "      <div>\n",
              "<style scoped>\n",
              "    .dataframe tbody tr th:only-of-type {\n",
              "        vertical-align: middle;\n",
              "    }\n",
              "\n",
              "    .dataframe tbody tr th {\n",
              "        vertical-align: top;\n",
              "    }\n",
              "\n",
              "    .dataframe thead th {\n",
              "        text-align: right;\n",
              "    }\n",
              "</style>\n",
              "<table border=\"1\" class=\"dataframe\">\n",
              "  <thead>\n",
              "    <tr style=\"text-align: right;\">\n",
              "      <th></th>\n",
              "      <th>book_id</th>\n",
              "      <th>first_name</th>\n",
              "      <th>last_name</th>\n",
              "      <th>original_sentence</th>\n",
              "      <th>label</th>\n",
              "      <th>prediction</th>\n",
              "    </tr>\n",
              "  </thead>\n",
              "  <tbody>\n",
              "    <tr>\n",
              "      <th>3887</th>\n",
              "      <td>2800405</td>\n",
              "      <td>Jack</td>\n",
              "      <td>Perdu</td>\n",
              "      <td>Jack Perdu, a shy, ninth grade classics prodig...</td>\n",
              "      <td>INDEPENDENCE</td>\n",
              "      <td>BELONGING</td>\n",
              "    </tr>\n",
              "    <tr>\n",
              "      <th>3888</th>\n",
              "      <td>2800405</td>\n",
              "      <td>Jack</td>\n",
              "      <td>Perdu</td>\n",
              "      <td>Smart and introverted, Jack spends most of his...</td>\n",
              "      <td>INDEPENDENCE</td>\n",
              "      <td>BELONGING</td>\n",
              "    </tr>\n",
              "    <tr>\n",
              "      <th>3889</th>\n",
              "      <td>2800405</td>\n",
              "      <td>Jack</td>\n",
              "      <td>Perdu</td>\n",
              "      <td>But when Jack suffers a near fatal accident, h...</td>\n",
              "      <td>INDEPENDENCE</td>\n",
              "      <td>BELONGING</td>\n",
              "    </tr>\n",
              "    <tr>\n",
              "      <th>3890</th>\n",
              "      <td>2800405</td>\n",
              "      <td>Jack</td>\n",
              "      <td>Perdu</td>\n",
              "      <td>His father sends him to a mysterious doctor in...</td>\n",
              "      <td>INDEPENDENCE</td>\n",
              "      <td>INDEPENDENCE</td>\n",
              "    </tr>\n",
              "    <tr>\n",
              "      <th>3891</th>\n",
              "      <td>2800405</td>\n",
              "      <td>Jack</td>\n",
              "      <td>Perdu</td>\n",
              "      <td>While in the city, Jack meets Euri, a young gi...</td>\n",
              "      <td>INDEPENDENCE</td>\n",
              "      <td>INDEPENDENCE</td>\n",
              "    </tr>\n",
              "    <tr>\n",
              "      <th>...</th>\n",
              "      <td>...</td>\n",
              "      <td>...</td>\n",
              "      <td>...</td>\n",
              "      <td>...</td>\n",
              "      <td>...</td>\n",
              "      <td>...</td>\n",
              "    </tr>\n",
              "    <tr>\n",
              "      <th>4872</th>\n",
              "      <td>8706231</td>\n",
              "      <td>Fever</td>\n",
              "      <td>Crumb</td>\n",
              "      <td>Soon though, she must say goodbye to Dr. Crumb...</td>\n",
              "      <td>INDEPENDENCE</td>\n",
              "      <td>MASTERY</td>\n",
              "    </tr>\n",
              "    <tr>\n",
              "      <th>4873</th>\n",
              "      <td>8706231</td>\n",
              "      <td>Fever</td>\n",
              "      <td>Crumb</td>\n",
              "      <td>As her work begins, Fever is plagued by memori...</td>\n",
              "      <td>INDEPENDENCE</td>\n",
              "      <td>MASTERY</td>\n",
              "    </tr>\n",
              "    <tr>\n",
              "      <th>4874</th>\n",
              "      <td>8706231</td>\n",
              "      <td>Fever</td>\n",
              "      <td>Crumb</td>\n",
              "      <td>The Scriveners, not human, ruled the city some...</td>\n",
              "      <td>INDEPENDENCE</td>\n",
              "      <td>MASTERY</td>\n",
              "    </tr>\n",
              "    <tr>\n",
              "      <th>4875</th>\n",
              "      <td>8706231</td>\n",
              "      <td>Fever</td>\n",
              "      <td>Crumb</td>\n",
              "      <td>Is Fever a Scriven?</td>\n",
              "      <td>INDEPENDENCE</td>\n",
              "      <td>BELONGING</td>\n",
              "    </tr>\n",
              "    <tr>\n",
              "      <th>4876</th>\n",
              "      <td>8706231</td>\n",
              "      <td>Fever</td>\n",
              "      <td>Crumb</td>\n",
              "      <td>Is the mystery of Fever, adopted daughter of D...</td>\n",
              "      <td>INDEPENDENCE</td>\n",
              "      <td>MASTERY</td>\n",
              "    </tr>\n",
              "  </tbody>\n",
              "</table>\n",
              "<p>990 rows × 6 columns</p>\n",
              "</div>\n",
              "      <button class=\"colab-df-convert\" onclick=\"convertToInteractive('df-6042693e-7de6-431c-9165-3450e07d2d61')\"\n",
              "              title=\"Convert this dataframe to an interactive table.\"\n",
              "              style=\"display:none;\">\n",
              "        \n",
              "  <svg xmlns=\"http://www.w3.org/2000/svg\" height=\"24px\"viewBox=\"0 0 24 24\"\n",
              "       width=\"24px\">\n",
              "    <path d=\"M0 0h24v24H0V0z\" fill=\"none\"/>\n",
              "    <path d=\"M18.56 5.44l.94 2.06.94-2.06 2.06-.94-2.06-.94-.94-2.06-.94 2.06-2.06.94zm-11 1L8.5 8.5l.94-2.06 2.06-.94-2.06-.94L8.5 2.5l-.94 2.06-2.06.94zm10 10l.94 2.06.94-2.06 2.06-.94-2.06-.94-.94-2.06-.94 2.06-2.06.94z\"/><path d=\"M17.41 7.96l-1.37-1.37c-.4-.4-.92-.59-1.43-.59-.52 0-1.04.2-1.43.59L10.3 9.45l-7.72 7.72c-.78.78-.78 2.05 0 2.83L4 21.41c.39.39.9.59 1.41.59.51 0 1.02-.2 1.41-.59l7.78-7.78 2.81-2.81c.8-.78.8-2.07 0-2.86zM5.41 20L4 18.59l7.72-7.72 1.47 1.35L5.41 20z\"/>\n",
              "  </svg>\n",
              "      </button>\n",
              "      \n",
              "  <style>\n",
              "    .colab-df-container {\n",
              "      display:flex;\n",
              "      flex-wrap:wrap;\n",
              "      gap: 12px;\n",
              "    }\n",
              "\n",
              "    .colab-df-convert {\n",
              "      background-color: #E8F0FE;\n",
              "      border: none;\n",
              "      border-radius: 50%;\n",
              "      cursor: pointer;\n",
              "      display: none;\n",
              "      fill: #1967D2;\n",
              "      height: 32px;\n",
              "      padding: 0 0 0 0;\n",
              "      width: 32px;\n",
              "    }\n",
              "\n",
              "    .colab-df-convert:hover {\n",
              "      background-color: #E2EBFA;\n",
              "      box-shadow: 0px 1px 2px rgba(60, 64, 67, 0.3), 0px 1px 3px 1px rgba(60, 64, 67, 0.15);\n",
              "      fill: #174EA6;\n",
              "    }\n",
              "\n",
              "    [theme=dark] .colab-df-convert {\n",
              "      background-color: #3B4455;\n",
              "      fill: #D2E3FC;\n",
              "    }\n",
              "\n",
              "    [theme=dark] .colab-df-convert:hover {\n",
              "      background-color: #434B5C;\n",
              "      box-shadow: 0px 1px 3px 1px rgba(0, 0, 0, 0.15);\n",
              "      filter: drop-shadow(0px 1px 2px rgba(0, 0, 0, 0.3));\n",
              "      fill: #FFFFFF;\n",
              "    }\n",
              "  </style>\n",
              "\n",
              "      <script>\n",
              "        const buttonEl =\n",
              "          document.querySelector('#df-6042693e-7de6-431c-9165-3450e07d2d61 button.colab-df-convert');\n",
              "        buttonEl.style.display =\n",
              "          google.colab.kernel.accessAllowed ? 'block' : 'none';\n",
              "\n",
              "        async function convertToInteractive(key) {\n",
              "          const element = document.querySelector('#df-6042693e-7de6-431c-9165-3450e07d2d61');\n",
              "          const dataTable =\n",
              "            await google.colab.kernel.invokeFunction('convertToInteractive',\n",
              "                                                     [key], {});\n",
              "          if (!dataTable) return;\n",
              "\n",
              "          const docLinkHtml = 'Like what you see? Visit the ' +\n",
              "            '<a target=\"_blank\" href=https://colab.research.google.com/notebooks/data_table.ipynb>data table notebook</a>'\n",
              "            + ' to learn more about interactive tables.';\n",
              "          element.innerHTML = '';\n",
              "          dataTable['output_type'] = 'display_data';\n",
              "          await google.colab.output.renderOutput(dataTable, element);\n",
              "          const docLink = document.createElement('div');\n",
              "          docLink.innerHTML = docLinkHtml;\n",
              "          element.appendChild(docLink);\n",
              "        }\n",
              "      </script>\n",
              "    </div>\n",
              "  </div>\n",
              "  "
            ],
            "text/plain": [
              "      book_id first_name last_name  \\\n",
              "3887  2800405       Jack     Perdu   \n",
              "3888  2800405       Jack     Perdu   \n",
              "3889  2800405       Jack     Perdu   \n",
              "3890  2800405       Jack     Perdu   \n",
              "3891  2800405       Jack     Perdu   \n",
              "...       ...        ...       ...   \n",
              "4872  8706231      Fever     Crumb   \n",
              "4873  8706231      Fever     Crumb   \n",
              "4874  8706231      Fever     Crumb   \n",
              "4875  8706231      Fever     Crumb   \n",
              "4876  8706231      Fever     Crumb   \n",
              "\n",
              "                                      original_sentence         label  \\\n",
              "3887  Jack Perdu, a shy, ninth grade classics prodig...  INDEPENDENCE   \n",
              "3888  Smart and introverted, Jack spends most of his...  INDEPENDENCE   \n",
              "3889  But when Jack suffers a near fatal accident, h...  INDEPENDENCE   \n",
              "3890  His father sends him to a mysterious doctor in...  INDEPENDENCE   \n",
              "3891  While in the city, Jack meets Euri, a young gi...  INDEPENDENCE   \n",
              "...                                                 ...           ...   \n",
              "4872  Soon though, she must say goodbye to Dr. Crumb...  INDEPENDENCE   \n",
              "4873  As her work begins, Fever is plagued by memori...  INDEPENDENCE   \n",
              "4874  The Scriveners, not human, ruled the city some...  INDEPENDENCE   \n",
              "4875                                Is Fever a Scriven?  INDEPENDENCE   \n",
              "4876  Is the mystery of Fever, adopted daughter of D...  INDEPENDENCE   \n",
              "\n",
              "        prediction  \n",
              "3887     BELONGING  \n",
              "3888     BELONGING  \n",
              "3889     BELONGING  \n",
              "3890  INDEPENDENCE  \n",
              "3891  INDEPENDENCE  \n",
              "...            ...  \n",
              "4872       MASTERY  \n",
              "4873       MASTERY  \n",
              "4874       MASTERY  \n",
              "4875     BELONGING  \n",
              "4876       MASTERY  \n",
              "\n",
              "[990 rows x 6 columns]"
            ]
          },
          "execution_count": 119,
          "metadata": {},
          "output_type": "execute_result"
        }
      ],
      "source": [
        "export = test_sentences[['book_id', 'first_name', 'last_name', 'original_sentence', 'label']].copy()\n",
        "export['label'] = y_test_labels\n",
        "export['prediction'] = yhat_test\n",
        "export.to_csv(root_path + 'temp/bert_sentence_prediction.csv')\n",
        "export"
      ]
    },
    {
      "cell_type": "code",
      "execution_count": null,
      "metadata": {
        "colab": {
          "base_uri": "https://localhost:8080/",
          "height": 423
        },
        "id": "yxlFl0kfG7Wt",
        "outputId": "b62111be-01be-4d72-ef4f-74034a94959f"
      },
      "outputs": [
        {
          "data": {
            "text/html": [
              "\n",
              "  <div id=\"df-5ce44992-c92a-41c8-ad28-b07d342d87e9\">\n",
              "    <div class=\"colab-df-container\">\n",
              "      <div>\n",
              "<style scoped>\n",
              "    .dataframe tbody tr th:only-of-type {\n",
              "        vertical-align: middle;\n",
              "    }\n",
              "\n",
              "    .dataframe tbody tr th {\n",
              "        vertical-align: top;\n",
              "    }\n",
              "\n",
              "    .dataframe thead th {\n",
              "        text-align: right;\n",
              "    }\n",
              "</style>\n",
              "<table border=\"1\" class=\"dataframe\">\n",
              "  <thead>\n",
              "    <tr style=\"text-align: right;\">\n",
              "      <th></th>\n",
              "      <th>book_id</th>\n",
              "      <th>first_name</th>\n",
              "      <th>last_name</th>\n",
              "      <th>original_text</th>\n",
              "      <th>label</th>\n",
              "      <th>prediction</th>\n",
              "    </tr>\n",
              "  </thead>\n",
              "  <tbody>\n",
              "    <tr>\n",
              "      <th>800</th>\n",
              "      <td>2800405</td>\n",
              "      <td>Jack</td>\n",
              "      <td>Perdu</td>\n",
              "      <td>Jack Perdu, a shy, ninth grade classics prodig...</td>\n",
              "      <td>INDEPENDENCE</td>\n",
              "      <td>BELONGING</td>\n",
              "    </tr>\n",
              "    <tr>\n",
              "      <th>801</th>\n",
              "      <td>20894021</td>\n",
              "      <td>Emily</td>\n",
              "      <td>Bird</td>\n",
              "      <td>Emily Bird was raised not to ask questions. Sh...</td>\n",
              "      <td>MASTERY</td>\n",
              "      <td>MASTERY</td>\n",
              "    </tr>\n",
              "    <tr>\n",
              "      <th>802</th>\n",
              "      <td>28113823</td>\n",
              "      <td>Joe</td>\n",
              "      <td>St</td>\n",
              "      <td>Missing Dad - Wanted is the first in a new ser...</td>\n",
              "      <td>INDEPENDENCE</td>\n",
              "      <td>MASTERY</td>\n",
              "    </tr>\n",
              "    <tr>\n",
              "      <th>803</th>\n",
              "      <td>8430147</td>\n",
              "      <td>Rosie</td>\n",
              "      <td>March</td>\n",
              "      <td>Scarlett March lives to hunt the Fenris--the w...</td>\n",
              "      <td>BELONGING</td>\n",
              "      <td>MASTERY</td>\n",
              "    </tr>\n",
              "    <tr>\n",
              "      <th>804</th>\n",
              "      <td>17689281</td>\n",
              "      <td>Saylor</td>\n",
              "      <td>Grayson</td>\n",
              "      <td>Saylor Grayson makes herself sick. Literally.S...</td>\n",
              "      <td>BELONGING</td>\n",
              "      <td>BELONGING</td>\n",
              "    </tr>\n",
              "    <tr>\n",
              "      <th>...</th>\n",
              "      <td>...</td>\n",
              "      <td>...</td>\n",
              "      <td>...</td>\n",
              "      <td>...</td>\n",
              "      <td>...</td>\n",
              "      <td>...</td>\n",
              "    </tr>\n",
              "    <tr>\n",
              "      <th>995</th>\n",
              "      <td>2964700</td>\n",
              "      <td>Beka</td>\n",
              "      <td>Cooper</td>\n",
              "      <td>The Hunt is on!Three years have passed since B...</td>\n",
              "      <td>MASTERY</td>\n",
              "      <td>MASTERY</td>\n",
              "    </tr>\n",
              "    <tr>\n",
              "      <th>996</th>\n",
              "      <td>1865670</td>\n",
              "      <td>Shrimp</td>\n",
              "      <td></td>\n",
              "      <td>If Cyd Charisse knows one thing, it's that Shr...</td>\n",
              "      <td>BELONGING</td>\n",
              "      <td>BELONGING</td>\n",
              "    </tr>\n",
              "    <tr>\n",
              "      <th>997</th>\n",
              "      <td>32622042</td>\n",
              "      <td>Nyssa</td>\n",
              "      <td>Glass</td>\n",
              "      <td>Reformed cat burglar Nyssa Glass fled her home...</td>\n",
              "      <td>MASTERY</td>\n",
              "      <td>INDEPENDENCE</td>\n",
              "    </tr>\n",
              "    <tr>\n",
              "      <th>998</th>\n",
              "      <td>25986903</td>\n",
              "      <td>Rashad</td>\n",
              "      <td></td>\n",
              "      <td>In an unforgettable new novel from award-winni...</td>\n",
              "      <td>INDEPENDENCE</td>\n",
              "      <td>INDEPENDENCE</td>\n",
              "    </tr>\n",
              "    <tr>\n",
              "      <th>999</th>\n",
              "      <td>8706231</td>\n",
              "      <td>Fever</td>\n",
              "      <td>Crumb</td>\n",
              "      <td>A stunning, new novel by master storyteller Ph...</td>\n",
              "      <td>INDEPENDENCE</td>\n",
              "      <td>MASTERY</td>\n",
              "    </tr>\n",
              "  </tbody>\n",
              "</table>\n",
              "<p>200 rows × 6 columns</p>\n",
              "</div>\n",
              "      <button class=\"colab-df-convert\" onclick=\"convertToInteractive('df-5ce44992-c92a-41c8-ad28-b07d342d87e9')\"\n",
              "              title=\"Convert this dataframe to an interactive table.\"\n",
              "              style=\"display:none;\">\n",
              "        \n",
              "  <svg xmlns=\"http://www.w3.org/2000/svg\" height=\"24px\"viewBox=\"0 0 24 24\"\n",
              "       width=\"24px\">\n",
              "    <path d=\"M0 0h24v24H0V0z\" fill=\"none\"/>\n",
              "    <path d=\"M18.56 5.44l.94 2.06.94-2.06 2.06-.94-2.06-.94-.94-2.06-.94 2.06-2.06.94zm-11 1L8.5 8.5l.94-2.06 2.06-.94-2.06-.94L8.5 2.5l-.94 2.06-2.06.94zm10 10l.94 2.06.94-2.06 2.06-.94-2.06-.94-.94-2.06-.94 2.06-2.06.94z\"/><path d=\"M17.41 7.96l-1.37-1.37c-.4-.4-.92-.59-1.43-.59-.52 0-1.04.2-1.43.59L10.3 9.45l-7.72 7.72c-.78.78-.78 2.05 0 2.83L4 21.41c.39.39.9.59 1.41.59.51 0 1.02-.2 1.41-.59l7.78-7.78 2.81-2.81c.8-.78.8-2.07 0-2.86zM5.41 20L4 18.59l7.72-7.72 1.47 1.35L5.41 20z\"/>\n",
              "  </svg>\n",
              "      </button>\n",
              "      \n",
              "  <style>\n",
              "    .colab-df-container {\n",
              "      display:flex;\n",
              "      flex-wrap:wrap;\n",
              "      gap: 12px;\n",
              "    }\n",
              "\n",
              "    .colab-df-convert {\n",
              "      background-color: #E8F0FE;\n",
              "      border: none;\n",
              "      border-radius: 50%;\n",
              "      cursor: pointer;\n",
              "      display: none;\n",
              "      fill: #1967D2;\n",
              "      height: 32px;\n",
              "      padding: 0 0 0 0;\n",
              "      width: 32px;\n",
              "    }\n",
              "\n",
              "    .colab-df-convert:hover {\n",
              "      background-color: #E2EBFA;\n",
              "      box-shadow: 0px 1px 2px rgba(60, 64, 67, 0.3), 0px 1px 3px 1px rgba(60, 64, 67, 0.15);\n",
              "      fill: #174EA6;\n",
              "    }\n",
              "\n",
              "    [theme=dark] .colab-df-convert {\n",
              "      background-color: #3B4455;\n",
              "      fill: #D2E3FC;\n",
              "    }\n",
              "\n",
              "    [theme=dark] .colab-df-convert:hover {\n",
              "      background-color: #434B5C;\n",
              "      box-shadow: 0px 1px 3px 1px rgba(0, 0, 0, 0.15);\n",
              "      filter: drop-shadow(0px 1px 2px rgba(0, 0, 0, 0.3));\n",
              "      fill: #FFFFFF;\n",
              "    }\n",
              "  </style>\n",
              "\n",
              "      <script>\n",
              "        const buttonEl =\n",
              "          document.querySelector('#df-5ce44992-c92a-41c8-ad28-b07d342d87e9 button.colab-df-convert');\n",
              "        buttonEl.style.display =\n",
              "          google.colab.kernel.accessAllowed ? 'block' : 'none';\n",
              "\n",
              "        async function convertToInteractive(key) {\n",
              "          const element = document.querySelector('#df-5ce44992-c92a-41c8-ad28-b07d342d87e9');\n",
              "          const dataTable =\n",
              "            await google.colab.kernel.invokeFunction('convertToInteractive',\n",
              "                                                     [key], {});\n",
              "          if (!dataTable) return;\n",
              "\n",
              "          const docLinkHtml = 'Like what you see? Visit the ' +\n",
              "            '<a target=\"_blank\" href=https://colab.research.google.com/notebooks/data_table.ipynb>data table notebook</a>'\n",
              "            + ' to learn more about interactive tables.';\n",
              "          element.innerHTML = '';\n",
              "          dataTable['output_type'] = 'display_data';\n",
              "          await google.colab.output.renderOutput(dataTable, element);\n",
              "          const docLink = document.createElement('div');\n",
              "          docLink.innerHTML = docLinkHtml;\n",
              "          element.appendChild(docLink);\n",
              "        }\n",
              "      </script>\n",
              "    </div>\n",
              "  </div>\n",
              "  "
            ],
            "text/plain": [
              "      book_id first_name last_name  \\\n",
              "800   2800405       Jack     Perdu   \n",
              "801  20894021      Emily      Bird   \n",
              "802  28113823        Joe        St   \n",
              "803   8430147      Rosie     March   \n",
              "804  17689281     Saylor   Grayson   \n",
              "..        ...        ...       ...   \n",
              "995   2964700       Beka    Cooper   \n",
              "996   1865670     Shrimp             \n",
              "997  32622042      Nyssa     Glass   \n",
              "998  25986903     Rashad             \n",
              "999   8706231      Fever     Crumb   \n",
              "\n",
              "                                         original_text         label  \\\n",
              "800  Jack Perdu, a shy, ninth grade classics prodig...  INDEPENDENCE   \n",
              "801  Emily Bird was raised not to ask questions. Sh...       MASTERY   \n",
              "802  Missing Dad - Wanted is the first in a new ser...  INDEPENDENCE   \n",
              "803  Scarlett March lives to hunt the Fenris--the w...     BELONGING   \n",
              "804  Saylor Grayson makes herself sick. Literally.S...     BELONGING   \n",
              "..                                                 ...           ...   \n",
              "995  The Hunt is on!Three years have passed since B...       MASTERY   \n",
              "996  If Cyd Charisse knows one thing, it's that Shr...     BELONGING   \n",
              "997  Reformed cat burglar Nyssa Glass fled her home...       MASTERY   \n",
              "998  In an unforgettable new novel from award-winni...  INDEPENDENCE   \n",
              "999  A stunning, new novel by master storyteller Ph...  INDEPENDENCE   \n",
              "\n",
              "       prediction  \n",
              "800     BELONGING  \n",
              "801       MASTERY  \n",
              "802       MASTERY  \n",
              "803       MASTERY  \n",
              "804     BELONGING  \n",
              "..            ...  \n",
              "995       MASTERY  \n",
              "996     BELONGING  \n",
              "997  INDEPENDENCE  \n",
              "998  INDEPENDENCE  \n",
              "999       MASTERY  \n",
              "\n",
              "[200 rows x 6 columns]"
            ]
          },
          "execution_count": 149,
          "metadata": {},
          "output_type": "execute_result"
        }
      ],
      "source": [
        "export = test_text[['book_id', 'first_name', 'last_name', 'original_text', 'label']].merge(predictions_df['prediction'], left_on='book_id', right_index=True)\n",
        "export['label'] = [labels[x] for x in export['label']]\n",
        "export.to_csv(root_path + 'temp/bert_adjudicated_prediction.csv')\n",
        "export"
      ]
    },
    {
      "cell_type": "markdown",
      "metadata": {
        "id": "RG4foBttf-hF"
      },
      "source": [
        "### Observations and Insights\n",
        "For an overall evaluation of performance, please refer to the summary section below. In this section we want to highlight some interesting findings we were able to generate by analysing the confusion matrix of the model (see above) and deep diving into some of the misspredicted labels.\n",
        "\n",
        "**Failure to predict Stability-labeled entries correctly** <br/>\n",
        "Our BERT model was unable to predict *Stability* on our adjudicated data, both on the text-level and on the sentence level. From a computational perspective, this can perhaps be explained by pointing out that there were not a lot of examples of *Stability* archetypes in our training data in the first place, and therefore less runway for our model to learn this association. This is indeed true. Out of all 600 entries in our training set, only 24 of them were labeled with *Stability* (just 4% of the training data). For context, 75 (12.5%) were labeled with *Mastery*, 78 (13%) with *Independence*, and 80 (13.3%) with *Belonging*. These proportions are also true to our total annotated dataset.\n",
        "To fix this in the future, we would probably assign the *Stability* label a bit more weight so that there is less disproportionality among the labels. We know that this would likely work because *Belonging*, which was our majority class, was the most represented among our predictions.\n",
        "\n",
        "There are a few reasons that could lead to the low accuracy of the NLP models.\n",
        "\n",
        "First, for characters with multiple archetypes, we provide the annotation guideline that the archetype that is more prominent or that matches the theme of the story. The adjudicated BERT model identifies the type for the character based on the number of sentences that are assigned that type. However, some sentences, usually longer sentences, are more informative about the character's type or the theme of the book. If all sentences are given the same weight, the results from the BERT adjudicated models would probably differ from the human annotation results, especially when the book summary contains a lot of short sentences that provide mostly background information. Thus, accuracy might be improved if we assign different weights to the sentences based on their informativeness and the usual way to do that is based on the length of the sentence. \n",
        "\n",
        "One example for this is for Book ID#2800405: \n",
        "<br/>“[1]Jack Perdu, a shy, ninth grade classics prodigy lives with father on the Yale University campus. <br/>[2] Smart and introverted, Jack spends most of his time alone, his nose buried in a book. <br/>[3] But when Jack suffers a near fatal accident, his life is forever changed. <br>[4] His father sends him to a mysterious doctor in New York City--a place Jack hasn't been since his mother died there eight years ago. <br/>[5]While in the city, Jack meets Euri, a young girl who offers to show him the secrets of Grand Central Station. <br/>[6]Here, Jack discovers New York's Underworld, a place where those who died in the city reside until they are ready to move on. <br/>[7]This, Jack believes, is a chance to see his mother again. <br/>[8]But as secrets about Euri's past are revealed, so are the true reasons for Jack's visit to the Underworld. Masterfully told, The Night Tourist weaves together New York City's secret history and its modern-day landscape to create a highly vivid ghost world, full of magical adventure and page-turning action.”\n",
        "\n",
        "<br/>The BERT-adjudicated model assigns the Belonging type to sentences [1], [2], [3] and [7], Independence type to sentences [4], [5] and [6] and Mastery type to sentence [8] so the type assigned to the text is Belonging while the label for this text is Independence. But as we can see from the text, sentences [4], [5] and [6] are more informative than sentences [1], [2], [3] and [7] regarding the nature of the character and the theme of the book. This illustrates the shortcoming of the BERT adjudicated model which simply counts the number of sentences for different types and selects the one with the most sentences. \n",
        "\n",
        "Second, the differences among different character types might be too subtle to be picked up by the NLP models. As is shown in the Confusion Matrix, the Independence type has the lowest accuracy rate compared to the other types and it's often mistaken for the Mastery type or Belonging type. The main reason for that is the character with multiple archetypes issue we specified in the annotation guidelines, particularly among explorer (Independence type), hero (Mastery type) and everyman (Belonging type). The differences among these archetypes are very subtle and might be harder to be grasped by the machines compared with humans. \n",
        "\n",
        "One example for this is for Book ID#2118745:\n",
        "<br/>“Prentisstown isn't like other towns. Everyone can hear everyone else's thoughts in an overwhelming, never-ending stream of Noise. <br/>[1]Just a month away from the birthday that will make him a man, Todd and his dog, Manchee -- whose thoughts Todd can hear too, whether he wants to or not -- stumble upon an area of complete silence. <br/>[2]They find that in a town where privacy is impossible, something terrible has been hidden -- a secret so awful that Todd and Manchee must run for their lives.But how do you escape when your pursuers can hear your every thought?”\n",
        "\n",
        "The BERT-adjudicated model assigns the Independence type to both sentences here while the label is Mastery type. We assign the archetype of Hero (Mastery type) to Todd because we think what he experienced resembles a hero’s journey in which he stepped up to solve a posited problem instead of seeking out those problems for himself because of an innate curiosity. This illustrates the subtle difference which is hard to be grasped by the NLP model.\n"
      ]
    },
    {
      "cell_type": "markdown",
      "metadata": {
        "id": "0FooSASigYk6"
      },
      "source": [
        "# Installing GloVe and apply to data\n",
        "We wanted to try a different class of model and decided to run a logistic classifier on GloVe embeddings. We import the GloVe dictionary (containing 100 dimensional vectors) as we did in an earlier assignment. We also wrote a function to compute the average GloVe embedding of a sentence or text."
      ]
    },
    {
      "cell_type": "code",
      "execution_count": null,
      "metadata": {
        "colab": {
          "base_uri": "https://localhost:8080/"
        },
        "id": "3FJ4B_6og56b",
        "outputId": "b50078ae-09e3-4694-c536-1aa7f0429b4f"
      },
      "outputs": [
        {
          "name": "stdout",
          "output_type": "stream",
          "text": [
            "--2022-04-21 23:15:27--  https://people.ischool.berkeley.edu/~dbamman/glove.6B.100d.100K.txt\n",
            "Resolving people.ischool.berkeley.edu (people.ischool.berkeley.edu)... 128.32.78.16\n",
            "Connecting to people.ischool.berkeley.edu (people.ischool.berkeley.edu)|128.32.78.16|:443... connected.\n",
            "HTTP request sent, awaiting response... 200 OK\n",
            "Length: 85951834 (82M) [text/plain]\n",
            "Saving to: ‘glove.6B.100d.100K.txt’\n",
            "\n",
            "glove.6B.100d.100K. 100%[===================>]  81.97M   119MB/s    in 0.7s    \n",
            "\n",
            "2022-04-21 23:15:28 (119 MB/s) - ‘glove.6B.100d.100K.txt’ saved [85951834/85951834]\n",
            "\n"
          ]
        }
      ],
      "source": [
        "!wget https://people.ischool.berkeley.edu/~dbamman/glove.6B.100d.100K.txt\n",
        "def read_vectors(filename: str):\n",
        "    vocab_map={}\n",
        "    embeddings=[]\n",
        "    with(open(filename, encoding=\"utf-8\")) as file:\n",
        "        for idx, line in enumerate(file):\n",
        "            cols=line.rstrip().split(\" \")\n",
        "            word=cols[0]\n",
        "            embedding=cols[1:]\n",
        "\n",
        "            embeddings.append(embedding)\n",
        "            vocab_map[word]=idx\n",
        "    \n",
        "    return vocab_map, np.array(embeddings, dtype=\"float\")\n",
        "glove_vocab_map, glove_embeddings=read_vectors(\"glove.6B.100d.100K.txt\")"
      ]
    },
    {
      "cell_type": "code",
      "execution_count": null,
      "metadata": {
        "id": "ETCHoUtBpgdK"
      },
      "outputs": [],
      "source": [
        "from nltk.tokenize import word_tokenize\n",
        "\n",
        "def compute_average_GloVe(text):\n",
        "    words = word_tokenize(text)\n",
        "    \n",
        "    embeddings = []\n",
        "    for i, word in enumerate(words):\n",
        "      word=word.lower()\n",
        "      if word in glove_vocab_map:\n",
        "        idx = glove_vocab_map[word]\n",
        "        embedding = glove_embeddings[idx]\n",
        "        embeddings.append(embedding)\n",
        "\n",
        "    # check if array is empty\n",
        "    if len(embeddings) == 0:\n",
        "      # print(\"Apparently GloVe isn't extensive enough\")\n",
        "      return np.zeros_like(glove_embeddings[0])\n",
        "\n",
        "    # compute avgerage GloVe vector\n",
        "    avg_embedding = np.mean(embeddings, axis=0)\n",
        "    return avg_embedding"
      ]
    },
    {
      "cell_type": "markdown",
      "metadata": {
        "id": "fYc5Bxsdgn4G"
      },
      "source": [
        "# Logistic Regression on entire text\n",
        "To run a logistic regression on the entire text we transform the text into a 100 dimensional GloVe embedding, by averaging over the individual word vectors. We then explode that vector and train a logistic regression on these 100 features. We use the development data to tune the regularization parameter C. "
      ]
    },
    {
      "cell_type": "code",
      "execution_count": null,
      "metadata": {
        "colab": {
          "base_uri": "https://localhost:8080/"
        },
        "id": "KUr_FzXIgm08",
        "outputId": "98d7a036-fe58-42c5-d125-b980414657d5"
      },
      "outputs": [
        {
          "name": "stdout",
          "output_type": "stream",
          "text": [
            "Training data:  600\n",
            "Evaluation data:  200\n",
            "Test data:  200\n"
          ]
        }
      ],
      "source": [
        "train['text_feature'] = [compute_average_GloVe(text) for text in train['text'].values]\n",
        "dev['text_feature'] = [compute_average_GloVe(text) for text in dev['text'].values]\n",
        "test['text_feature'] = [compute_average_GloVe(text) for text in test['text'].values]\n",
        "\n",
        "def explode_features(data, features):\n",
        "\n",
        "  n = len(data[features[0]].values[0])\n",
        "  data_exploded = pd.DataFrame(data[features[0]].tolist(), columns=np.arange(0, n))\n",
        "  \n",
        "  if len(features) > 1:\n",
        "    for idx, feature in enumerate(features[1:]):\n",
        "      new_data = pd.DataFrame(data[feature].tolist(), columns=np.arange(n * (idx +1), n * (idx +2)))\n",
        "      data_exploded = data_exploded.merge(new_data, left_index=True, right_index=True)\n",
        "  \n",
        "  return data_exploded\n",
        "\n",
        "features = ['text_feature']\n",
        "target = 'label'\n",
        "\n",
        "X_train = explode_features(train, features)\n",
        "y_train = train[target]\n",
        "\n",
        "X_dev = explode_features(dev, features)\n",
        "y_dev = dev[target]\n",
        "\n",
        "X_test = explode_features(test, features)\n",
        "y_test = test[target]\n",
        "\n",
        "print('Training data: ', len(X_train))\n",
        "print('Evaluation data: ', len(X_dev))\n",
        "print('Test data: ', len(X_test))"
      ]
    },
    {
      "cell_type": "code",
      "execution_count": null,
      "metadata": {
        "colab": {
          "base_uri": "https://localhost:8080/",
          "height": 426
        },
        "id": "e7DEsxBG_zM2",
        "outputId": "fc411fdc-f345-4f27-bb88-8b9599aca3aa"
      },
      "outputs": [
        {
          "data": {
            "image/png": "[encoded data removed]",
            "text/plain": [
              "<Figure size 720x360 with 1 Axes>"
            ]
          },
          "metadata": {},
          "output_type": "display_data"
        },
        {
          "name": "stdout",
          "output_type": "stream",
          "text": [
            "Best C: 10.000\n",
            "Dev accuracy: 0.570\n",
            "Accuracy on training set: 0.663\n",
            "Accuracy on test set: 0.515, 95% CIs: [0.446 0.584]\n"
          ]
        }
      ],
      "source": [
        "from sklearn.linear_model import LogisticRegression\n",
        "from sklearn.model_selection import GridSearchCV\n",
        "from sklearn.metrics import accuracy_score\n",
        "\n",
        "model = LogisticRegression(random_state=0, max_iter=10000) \n",
        "\n",
        "C_array = [0.1, 1, 10, 100]\n",
        "\n",
        "dev_accuracies = []\n",
        "train_accuracies = []\n",
        "\n",
        "for C in C_array:\n",
        "  cv_model = LogisticRegression(random_state=0, max_iter=1000, C=C) \n",
        "  cv_model.fit(X_train, y_train)\n",
        "  yhat_train = cv_model.predict(X_train)\n",
        "  yhat_dev = cv_model.predict(X_dev)\n",
        "  accuracy_train = accuracy_score(y_train, yhat_train)\n",
        "  accuracy_dev = accuracy_score(y_dev, yhat_dev)\n",
        "\n",
        "  if len(dev_accuracies) > 0 and accuracy_dev > np.max(dev_accuracies):\n",
        "    model = cv_model\n",
        "\n",
        "  dev_accuracies.append(accuracy_dev)\n",
        "  train_accuracies.append(accuracy_train)\n",
        "\n",
        "fig, ax = plt.subplots(1, figsize=(10, 5))\n",
        "ax.plot(C_array, train_accuracies, label='Train', color=\"cornflowerblue\", marker='.')\n",
        "ax.plot(C_array, dev_accuracies, label='Dev accuracy', color=\"indianred\", marker='.')\n",
        "ax.set_xlabel('Value of regularization parameter C')\n",
        "ax.set_ylabel('Dev Accuracy')\n",
        "ax.set_title('Accuracy vs. Regularization C')\n",
        "ax.legend(loc='best')\n",
        "plt.savefig(root_path + 'plots/LOGISTIC_text_dev', format='pdf', bbox_inches=\"tight\")\n",
        "plt.show()\n",
        "\n",
        "# Get predictions on test set using best model\n",
        "model.fit(X_train, y_train)\n",
        "yhat_train = model.predict(X_train)\n",
        "yhat_test = model.predict(X_test)\n",
        "\n",
        "lower, upper=confidence_intervals(accuracy_score(y_test, yhat_test), len(y_test), .95)\n",
        "\n",
        "print('Best C: %.3f' % C_array[np.argmax(dev_accuracies)])\n",
        "print('Dev accuracy: %.3f' % np.max(dev_accuracies))\n",
        "print('Accuracy on training set: %.3f' % accuracy_score(y_train, yhat_train))\n",
        "print('Accuracy on test set: %.3f, 95%% CIs: [%.3f %.3f]' % (accuracy_score(y_test, yhat_test), lower, upper))"
      ]
    },
    {
      "cell_type": "code",
      "execution_count": null,
      "metadata": {
        "colab": {
          "base_uri": "https://localhost:8080/",
          "height": 380
        },
        "id": "Rz6Wgn6vAoX-",
        "outputId": "0b00fad6-5b64-420c-ef13-6d7ae220de08"
      },
      "outputs": [
        {
          "name": "stdout",
          "output_type": "stream",
          "text": [
            "Accuracy on test set: 0.515, 95% CIs: [0.446 0.584]\n"
          ]
        },
        {
          "data": {
            "image/png": "[encoded data removed]",
            "text/plain": [
              "<Figure size 432x288 with 2 Axes>"
            ]
          },
          "metadata": {},
          "output_type": "display_data"
        }
      ],
      "source": [
        "y_test = [labels[x] for x in y_test]\n",
        "yhat_test = [labels[x] for x in yhat_test]\n",
        "\n",
        "print('Accuracy on test set: %.3f, 95%% CIs: [%.3f %.3f]' % (accuracy_score(y_test, yhat_test), lower, upper))\n",
        "cm = confusion_matrix(y_test, yhat_test, labels=labels)\n",
        "disp = ConfusionMatrixDisplay(cm, display_labels=labels)\n",
        "disp.plot(cmap=plt.cm.Blues,values_format='g')\n",
        "plt.grid(visible=None)\n",
        "plt.xticks(rotation=90)\n",
        "plt.savefig(root_path + 'plots/LOGISTIC_text_confusion', format='pdf', bbox_inches=\"tight\")\n",
        "plt.show()"
      ]
    },
    {
      "cell_type": "markdown",
      "metadata": {
        "id": "pGWEILSZgxbb"
      },
      "source": [
        "# Logistic Regression on sentences\n",
        "We then also ran a logistic regression on the individual sentences like we did for BERT. We compute the average GloVe embedding for each sentence, predict the label, and then adjudicate the labels to get a single prediction for each book. Again, we use the development data to tune the regularization parameter C. "
      ]
    },
    {
      "cell_type": "code",
      "execution_count": null,
      "metadata": {
        "colab": {
          "base_uri": "https://localhost:8080/"
        },
        "id": "SzJQS6QIg05z",
        "outputId": "80118453-5f6d-4ba5-81d2-74776efafd49"
      },
      "outputs": [
        {
          "name": "stdout",
          "output_type": "stream",
          "text": [
            "Training data:  2917\n",
            "Evaluation data:  970\n",
            "Test data:  990\n"
          ]
        }
      ],
      "source": [
        "train_sentences['sentence_feature'] = [compute_average_GloVe(sentence) for sentence in train_sentences['original_sentence'].values]\n",
        "dev_sentences['sentence_feature'] = [compute_average_GloVe(sentence) for sentence in dev_sentences['original_sentence'].values]\n",
        "test_sentences['sentence_feature'] = [compute_average_GloVe(sentence) for sentence in test_sentences['original_sentence'].values]\n",
        "\n",
        "features = ['sentence_feature']\n",
        "target = 'label'\n",
        "\n",
        "X_train = explode_features(train_sentences, features)\n",
        "y_train = train_sentences[target]\n",
        "\n",
        "X_dev = explode_features(dev_sentences, features)\n",
        "y_dev = dev_sentences[target]\n",
        "\n",
        "X_test = explode_features(test_sentences, features)\n",
        "y_test = test_sentences[target]\n",
        "\n",
        "print('Training data: ', len(X_train))\n",
        "print('Evaluation data: ', len(X_dev))\n",
        "print('Test data: ', len(X_test))"
      ]
    },
    {
      "cell_type": "code",
      "execution_count": null,
      "metadata": {
        "colab": {
          "base_uri": "https://localhost:8080/",
          "height": 426
        },
        "id": "HsIZxs5cDOCF",
        "outputId": "ccd24310-2e82-4346-f32f-74bf1df8e77b"
      },
      "outputs": [
        {
          "data": {
            "image/png": "[encoded data removed]",
            "text/plain": [
              "<Figure size 720x360 with 1 Axes>"
            ]
          },
          "metadata": {},
          "output_type": "display_data"
        },
        {
          "name": "stdout",
          "output_type": "stream",
          "text": [
            "Best C: 0.400\n",
            "Dev accuracy: 0.467\n",
            "Accuracy on training set: 0.495\n",
            "Accuracy on test set: 0.451, 95% CIs: [0.420 0.481]\n"
          ]
        }
      ],
      "source": [
        "model = LogisticRegression(random_state=0, max_iter=10000) \n",
        "\n",
        "C_array = np.arange(0.1,2, 0.1)\n",
        "\n",
        "dev_accuracies = []\n",
        "train_accuracies = []\n",
        "\n",
        "for C in C_array:\n",
        "  cv_model = LogisticRegression(random_state=0, max_iter=1000, C=C) \n",
        "  cv_model.fit(X_train, y_train)\n",
        "  yhat_train = cv_model.predict(X_train)\n",
        "  yhat_dev = cv_model.predict(X_dev)\n",
        "  accuracy_train = accuracy_score(y_train, yhat_train)\n",
        "  accuracy_dev = accuracy_score(y_dev, yhat_dev)\n",
        "\n",
        "  if len(dev_accuracies) > 0 and accuracy_dev > np.max(dev_accuracies):\n",
        "    model = cv_model\n",
        "\n",
        "  dev_accuracies.append(accuracy_dev)\n",
        "  train_accuracies.append(accuracy_train)\n",
        "\n",
        "fig, ax = plt.subplots(1, figsize=(10, 5))\n",
        "ax.plot(C_array, train_accuracies, label='Train', color=\"cornflowerblue\", marker='.')\n",
        "ax.plot(C_array, dev_accuracies, label='Dev accuracy', color=\"indianred\", marker='.')\n",
        "ax.set_xlabel('Value of regularization parameter C')\n",
        "ax.set_ylabel('Dev Accuracy')\n",
        "ax.set_title('Accuracy vs. Regularization C')\n",
        "ax.legend(loc='best')\n",
        "plt.savefig(root_path + 'plots/LOGISTIC_sentence_dev', format='pdf', bbox_inches=\"tight\")\n",
        "plt.show()\n",
        "\n",
        "# Get predictions on test set using best model\n",
        "model.fit(X_train, y_train)\n",
        "yhat_train = model.predict(X_train)\n",
        "yhat_test = model.predict(X_test)\n",
        "\n",
        "lower, upper=confidence_intervals(accuracy_score(y_test, yhat_test), len(y_test), .95)\n",
        "\n",
        "print('Best C: %.3f' % C_array[np.argmax(dev_accuracies)])\n",
        "print('Dev accuracy: %.3f' % np.max(dev_accuracies))\n",
        "print('Accuracy on training set: %.3f' % accuracy_score(y_train, yhat_train))\n",
        "print('Accuracy on test set: %.3f, 95%% CIs: [%.3f %.3f]' % (accuracy_score(y_test, yhat_test), lower, upper))"
      ]
    },
    {
      "cell_type": "code",
      "execution_count": null,
      "metadata": {
        "colab": {
          "base_uri": "https://localhost:8080/",
          "height": 380
        },
        "id": "9gp2harHbZSn",
        "outputId": "dd0d717e-aa30-48b1-dc80-d87d7b84a3a4"
      },
      "outputs": [
        {
          "name": "stdout",
          "output_type": "stream",
          "text": [
            "Accuracy on test set: 0.451, 95% CIs: [0.420 0.481]\n"
          ]
        },
        {
          "data": {
            "image/png": "[encoded data removed]",
            "text/plain": [
              "<Figure size 432x288 with 2 Axes>"
            ]
          },
          "metadata": {},
          "output_type": "display_data"
        }
      ],
      "source": [
        "y_test = [labels[x] for x in y_test]\n",
        "yhat_test = [labels[x] for x in yhat_test]\n",
        "\n",
        "print('Accuracy on test set: %.3f, 95%% CIs: [%.3f %.3f]' % (accuracy_score(y_test, yhat_test), lower, upper))\n",
        "cm = confusion_matrix(y_test, yhat_test, labels=labels)\n",
        "disp = ConfusionMatrixDisplay(cm, display_labels=labels)\n",
        "disp.plot(cmap=plt.cm.Blues,values_format='g')\n",
        "plt.grid(visible=None)\n",
        "plt.xticks(rotation=90)\n",
        "plt.savefig(root_path + 'plots/LOGISTIC_sentence_confusion', format='pdf', bbox_inches=\"tight\")\n",
        "plt.show()"
      ]
    },
    {
      "cell_type": "code",
      "execution_count": null,
      "metadata": {
        "colab": {
          "base_uri": "https://localhost:8080/",
          "height": 397
        },
        "id": "EGpTR9moEAHg",
        "outputId": "e7e394d3-ec08-47a3-9263-0d83a9b80987"
      },
      "outputs": [
        {
          "name": "stdout",
          "output_type": "stream",
          "text": [
            "Baseline - majority-class on test set: 0.355\n",
            "Accuracy on test set - adjudicated: 0.465, 95% CIs: [0.396 0.534]\n"
          ]
        },
        {
          "data": {
            "image/png": "[encoded data removed]",
            "text/plain": [
              "<Figure size 432x288 with 2 Axes>"
            ]
          },
          "metadata": {},
          "output_type": "display_data"
        }
      ],
      "source": [
        "# Transform multiple labels (eg. Sentence or reviews) in adjudicated label\n",
        "\n",
        "prediction_dict = collections.defaultdict(list)\n",
        "book_ids = test_sentences.book_id.values\n",
        "\n",
        "for i, prediction in enumerate(yhat_test):\n",
        "  prediction_dict[book_ids[i]].append(prediction)\n",
        "\n",
        "for k, v in prediction_dict.items():\n",
        "  prediction_dict[k] = Counter(v).most_common(1)[0][0]\n",
        "\n",
        "book_predictions = list(prediction_dict.values())\n",
        "book_label = test.copy()\n",
        "book_label[target] = [labels[x] for x in test[target]]\n",
        "\n",
        "predictions_df = pd.DataFrame(book_predictions, columns=['prediction'], index=prediction_dict.keys())\n",
        "predictions_df = predictions_df.merge(book_label[target], left_index=True, right_index=True)\n",
        "\n",
        "majority_class = [Counter(predictions_df[target]).most_common(1)[0][0]] * len(predictions_df[target])\n",
        "print('Baseline - majority-class on test set: %.3f' % accuracy_score(predictions_df[target], majority_class))\n",
        "\n",
        "lower, upper=confidence_intervals(accuracy_score(predictions_df[target], predictions_df['prediction']), len(predictions_df[target]), .95)\n",
        "print('Accuracy on test set - adjudicated: %.3f, 95%% CIs: [%.3f %.3f]' % (accuracy_score(predictions_df[target], predictions_df['prediction']), lower, upper))\n",
        "cm = confusion_matrix(predictions_df[target], predictions_df['prediction'], labels=labels)\n",
        "disp = ConfusionMatrixDisplay(cm, display_labels=labels)\n",
        "disp.plot(cmap=plt.cm.Blues,values_format='g')\n",
        "plt.grid(visible=None)\n",
        "plt.xticks(rotation=90)\n",
        "plt.savefig(root_path + 'plots/LOGISTIC_sentence_adjudicated_confusion', format='pdf', bbox_inches=\"tight\")\n",
        "plt.show()"
      ]
    },
    {
      "cell_type": "markdown",
      "metadata": {
        "id": "w3EKarePg1jf"
      },
      "source": [
        "# Other things we tried"
      ]
    },
    {
      "cell_type": "markdown",
      "metadata": {
        "id": "IQBl4NnOhMGY"
      },
      "source": [
        "There are several other ideas we pursued that did, however, not increase performance. Some of them relied on additional data, so we decided to exclude them from this notebook. For the sake of completness we still want to mention them here briefly:\n",
        "- Running the models on other features entity_text, replaced_text, entity_sentence, replaced_sentence. For all models this decreased test performance. This questions if the model actually picks up upon character related information or rather on the overall theme of the sentence/text.\n",
        "- In our original annotation data, we had annotated 12 archetypes instead of their category. 3 archetypes together form one of the overarching categories (BELONGING, STABILITY, MASTERY, INDEPENDENCE). We trained BERT and all other models on the archetype data, achieving a test accuracy of around 0.355 with BERT trained on the entire text. After transforming the archetype back to the label the accuracy was around 0.520 on the test set.\n",
        "- Our original dataset also includes book reviews for each book. We identified the book reviews that contained information about the character, performed correference resolution on it and used it as additional training data. Surprisingly, this, however, decreased performance as well."
      ]
    },
    {
      "cell_type": "markdown",
      "metadata": {
        "id": "O1C2xE4Ml5d8"
      },
      "source": [
        "# Summary\n",
        "\n",
        "| Model | Dataset | Dev Performance | Sentence Test Performance | Test Performance |Chosen Hyperparameters | \n",
        "|------|------|------|------|------|------|\n",
        "|   Majority        | text | | | 0.355 |    |\n",
        "|   BoW        | text | |  | 0.510 |   |\n",
        "|   BERT        | text | 0.475 | | 0.505 [0.436 0.574] | epoch_nr: 5  |\n",
        "|   BERT        | sentence | 0.504 | 0.491 [0.460 0.522] | 0.550 [0.481 0.619] |epoch_nr: 5  |\n",
        "|   Logistic        | text | 0.570 | |  0.515 [0.446 0.584] | C: 10  |\n",
        "|   Logistic        | sentence | 0.467 | 0.451 [0.420 0.481] | 0.465 [0.396 0.534] | C: 0.4  |\n",
        "\n",
        "Overall, the BERT sentence model performed best with a test accuracy of 0.550 and confidence intervals of [0.481 0.619]. It, therefore, outperformed other models such as the BoW predictor, the BERT on text model, and the Logistic regression on sentences by about 4\\%. In comparison to the Majority label predictor, we were able to achieve an increase in test performance of 19.5\\%. As detailed in the analysis above, the model still shows some shortcomings, especially in regards to predicting the minority class STABILITY correctly. This problem could be addressed in future work."
      ]
    }
  ],
  "metadata": {
    "accelerator": "GPU",
    "colab": {
      "name": "ap4_main.ipynb",
      "provenance": []
    },
    "kernelspec": {
      "display_name": "Python 3",
      "name": "python3"
    },
    "language_info": {
      "name": "python"
    },
    "widgets": {
      "application/vnd.jupyter.widget-state+json": {
        "0800d24fea834ea5a274ce485607e640": {
          "model_module": "@jupyter-widgets/controls",
          "model_module_version": "1.5.0",
          "model_name": "ProgressStyleModel",
          "state": {
            "_model_module": "@jupyter-widgets/controls",
            "_model_module_version": "1.5.0",
            "_model_name": "ProgressStyleModel",
            "_view_count": null,
            "_view_module": "@jupyter-widgets/base",
            "_view_module_version": "1.2.0",
            "_view_name": "StyleView",
            "bar_color": null,
            "description_width": ""
          }
        },
        "0fc8c827cdb3473bb8d883896c453461": {
          "model_module": "@jupyter-widgets/controls",
          "model_module_version": "1.5.0",
          "model_name": "FloatProgressModel",
          "state": {
            "_dom_classes": [],
            "_model_module": "@jupyter-widgets/controls",
            "_model_module_version": "1.5.0",
            "_model_name": "FloatProgressModel",
            "_view_count": null,
            "_view_module": "@jupyter-widgets/controls",
            "_view_module_version": "1.5.0",
            "_view_name": "ProgressView",
            "bar_style": "success",
            "description": "",
            "description_tooltip": null,
            "layout": "IPY_MODEL_23955eb32f14436eb81b902439eb1e06",
            "max": 213450,
            "min": 0,
            "orientation": "horizontal",
            "style": "IPY_MODEL_1dceb9074d1b4062ac94e9aa039a0d11",
            "value": 213450
          }
        },
        "0fd4b2df7872402c9fc87227652741af": {
          "model_module": "@jupyter-widgets/base",
          "model_module_version": "1.2.0",
          "model_name": "LayoutModel",
          "state": {
            "_model_module": "@jupyter-widgets/base",
            "_model_module_version": "1.2.0",
            "_model_name": "LayoutModel",
            "_view_count": null,
            "_view_module": "@jupyter-widgets/base",
            "_view_module_version": "1.2.0",
            "_view_name": "LayoutView",
            "align_content": null,
            "align_items": null,
            "align_self": null,
            "border": null,
            "bottom": null,
            "display": null,
            "flex": null,
            "flex_flow": null,
            "grid_area": null,
            "grid_auto_columns": null,
            "grid_auto_flow": null,
            "grid_auto_rows": null,
            "grid_column": null,
            "grid_gap": null,
            "grid_row": null,
            "grid_template_areas": null,
            "grid_template_columns": null,
            "grid_template_rows": null,
            "height": null,
            "justify_content": null,
            "justify_items": null,
            "left": null,
            "margin": null,
            "max_height": null,
            "max_width": null,
            "min_height": null,
            "min_width": null,
            "object_fit": null,
            "object_position": null,
            "order": null,
            "overflow": null,
            "overflow_x": null,
            "overflow_y": null,
            "padding": null,
            "right": null,
            "top": null,
            "visibility": null,
            "width": null
          }
        },
        "16744b5c9e3341269403a41e3263fcf7": {
          "model_module": "@jupyter-widgets/controls",
          "model_module_version": "1.5.0",
          "model_name": "HTMLModel",
          "state": {
            "_dom_classes": [],
            "_model_module": "@jupyter-widgets/controls",
            "_model_module_version": "1.5.0",
            "_model_name": "HTMLModel",
            "_view_count": null,
            "_view_module": "@jupyter-widgets/controls",
            "_view_module_version": "1.5.0",
            "_view_name": "HTMLView",
            "description": "",
            "description_tooltip": null,
            "layout": "IPY_MODEL_36e2f06a1ed44ea199993f1b1871f594",
            "placeholder": "​",
            "style": "IPY_MODEL_c398e854043843af8c90ff416e3f4296",
            "value": " 208k/208k [00:00&lt;00:00, 827kB/s]"
          }
        },
        "1dceb9074d1b4062ac94e9aa039a0d11": {
          "model_module": "@jupyter-widgets/controls",
          "model_module_version": "1.5.0",
          "model_name": "ProgressStyleModel",
          "state": {
            "_model_module": "@jupyter-widgets/controls",
            "_model_module_version": "1.5.0",
            "_model_name": "ProgressStyleModel",
            "_view_count": null,
            "_view_module": "@jupyter-widgets/base",
            "_view_module_version": "1.2.0",
            "_view_name": "StyleView",
            "bar_color": null,
            "description_width": ""
          }
        },
        "218352cedf0b4857af3eb4015bc20f5e": {
          "model_module": "@jupyter-widgets/controls",
          "model_module_version": "1.5.0",
          "model_name": "HBoxModel",
          "state": {
            "_dom_classes": [],
            "_model_module": "@jupyter-widgets/controls",
            "_model_module_version": "1.5.0",
            "_model_name": "HBoxModel",
            "_view_count": null,
            "_view_module": "@jupyter-widgets/controls",
            "_view_module_version": "1.5.0",
            "_view_name": "HBoxView",
            "box_style": "",
            "children": [
              "IPY_MODEL_bea49ddb0c384030b59cf11e63352d69",
              "IPY_MODEL_9c6b0ba2a6ae4ba0ac3dfd9bcf9d90e0",
              "IPY_MODEL_baf802def57a4ded989543a69bd8bdd8"
            ],
            "layout": "IPY_MODEL_2d3bdbf694e24107a1ae8a361d0456f6"
          }
        },
        "22f4bf1646c7473cb28ecd6ec694aaf6": {
          "model_module": "@jupyter-widgets/controls",
          "model_module_version": "1.5.0",
          "model_name": "FloatProgressModel",
          "state": {
            "_dom_classes": [],
            "_model_module": "@jupyter-widgets/controls",
            "_model_module_version": "1.5.0",
            "_model_name": "FloatProgressModel",
            "_view_count": null,
            "_view_module": "@jupyter-widgets/controls",
            "_view_module_version": "1.5.0",
            "_view_name": "ProgressView",
            "bar_style": "success",
            "description": "",
            "description_tooltip": null,
            "layout": "IPY_MODEL_ec84664d95744a5d8f81a3c2c057f75c",
            "max": 435779157,
            "min": 0,
            "orientation": "horizontal",
            "style": "IPY_MODEL_0800d24fea834ea5a274ce485607e640",
            "value": 435779157
          }
        },
        "23955eb32f14436eb81b902439eb1e06": {
          "model_module": "@jupyter-widgets/base",
          "model_module_version": "1.2.0",
          "model_name": "LayoutModel",
          "state": {
            "_model_module": "@jupyter-widgets/base",
            "_model_module_version": "1.2.0",
            "_model_name": "LayoutModel",
            "_view_count": null,
            "_view_module": "@jupyter-widgets/base",
            "_view_module_version": "1.2.0",
            "_view_name": "LayoutView",
            "align_content": null,
            "align_items": null,
            "align_self": null,
            "border": null,
            "bottom": null,
            "display": null,
            "flex": null,
            "flex_flow": null,
            "grid_area": null,
            "grid_auto_columns": null,
            "grid_auto_flow": null,
            "grid_auto_rows": null,
            "grid_column": null,
            "grid_gap": null,
            "grid_row": null,
            "grid_template_areas": null,
            "grid_template_columns": null,
            "grid_template_rows": null,
            "height": null,
            "justify_content": null,
            "justify_items": null,
            "left": null,
            "margin": null,
            "max_height": null,
            "max_width": null,
            "min_height": null,
            "min_width": null,
            "object_fit": null,
            "object_position": null,
            "order": null,
            "overflow": null,
            "overflow_x": null,
            "overflow_y": null,
            "padding": null,
            "right": null,
            "top": null,
            "visibility": null,
            "width": null
          }
        },
        "2d3bdbf694e24107a1ae8a361d0456f6": {
          "model_module": "@jupyter-widgets/base",
          "model_module_version": "1.2.0",
          "model_name": "LayoutModel",
          "state": {
            "_model_module": "@jupyter-widgets/base",
            "_model_module_version": "1.2.0",
            "_model_name": "LayoutModel",
            "_view_count": null,
            "_view_module": "@jupyter-widgets/base",
            "_view_module_version": "1.2.0",
            "_view_name": "LayoutView",
            "align_content": null,
            "align_items": null,
            "align_self": null,
            "border": null,
            "bottom": null,
            "display": null,
            "flex": null,
            "flex_flow": null,
            "grid_area": null,
            "grid_auto_columns": null,
            "grid_auto_flow": null,
            "grid_auto_rows": null,
            "grid_column": null,
            "grid_gap": null,
            "grid_row": null,
            "grid_template_areas": null,
            "grid_template_columns": null,
            "grid_template_rows": null,
            "height": null,
            "justify_content": null,
            "justify_items": null,
            "left": null,
            "margin": null,
            "max_height": null,
            "max_width": null,
            "min_height": null,
            "min_width": null,
            "object_fit": null,
            "object_position": null,
            "order": null,
            "overflow": null,
            "overflow_x": null,
            "overflow_y": null,
            "padding": null,
            "right": null,
            "top": null,
            "visibility": null,
            "width": null
          }
        },
        "302d637bb3914364bf516d044bdc1912": {
          "model_module": "@jupyter-widgets/controls",
          "model_module_version": "1.5.0",
          "model_name": "DescriptionStyleModel",
          "state": {
            "_model_module": "@jupyter-widgets/controls",
            "_model_module_version": "1.5.0",
            "_model_name": "DescriptionStyleModel",
            "_view_count": null,
            "_view_module": "@jupyter-widgets/base",
            "_view_module_version": "1.2.0",
            "_view_name": "StyleView",
            "description_width": ""
          }
        },
        "34c8fa396ec14a64a64d20f82e676204": {
          "model_module": "@jupyter-widgets/base",
          "model_module_version": "1.2.0",
          "model_name": "LayoutModel",
          "state": {
            "_model_module": "@jupyter-widgets/base",
            "_model_module_version": "1.2.0",
            "_model_name": "LayoutModel",
            "_view_count": null,
            "_view_module": "@jupyter-widgets/base",
            "_view_module_version": "1.2.0",
            "_view_name": "LayoutView",
            "align_content": null,
            "align_items": null,
            "align_self": null,
            "border": null,
            "bottom": null,
            "display": null,
            "flex": null,
            "flex_flow": null,
            "grid_area": null,
            "grid_auto_columns": null,
            "grid_auto_flow": null,
            "grid_auto_rows": null,
            "grid_column": null,
            "grid_gap": null,
            "grid_row": null,
            "grid_template_areas": null,
            "grid_template_columns": null,
            "grid_template_rows": null,
            "height": null,
            "justify_content": null,
            "justify_items": null,
            "left": null,
            "margin": null,
            "max_height": null,
            "max_width": null,
            "min_height": null,
            "min_width": null,
            "object_fit": null,
            "object_position": null,
            "order": null,
            "overflow": null,
            "overflow_x": null,
            "overflow_y": null,
            "padding": null,
            "right": null,
            "top": null,
            "visibility": null,
            "width": null
          }
        },
        "36e2f06a1ed44ea199993f1b1871f594": {
          "model_module": "@jupyter-widgets/base",
          "model_module_version": "1.2.0",
          "model_name": "LayoutModel",
          "state": {
            "_model_module": "@jupyter-widgets/base",
            "_model_module_version": "1.2.0",
            "_model_name": "LayoutModel",
            "_view_count": null,
            "_view_module": "@jupyter-widgets/base",
            "_view_module_version": "1.2.0",
            "_view_name": "LayoutView",
            "align_content": null,
            "align_items": null,
            "align_self": null,
            "border": null,
            "bottom": null,
            "display": null,
            "flex": null,
            "flex_flow": null,
            "grid_area": null,
            "grid_auto_columns": null,
            "grid_auto_flow": null,
            "grid_auto_rows": null,
            "grid_column": null,
            "grid_gap": null,
            "grid_row": null,
            "grid_template_areas": null,
            "grid_template_columns": null,
            "grid_template_rows": null,
            "height": null,
            "justify_content": null,
            "justify_items": null,
            "left": null,
            "margin": null,
            "max_height": null,
            "max_width": null,
            "min_height": null,
            "min_width": null,
            "object_fit": null,
            "object_position": null,
            "order": null,
            "overflow": null,
            "overflow_x": null,
            "overflow_y": null,
            "padding": null,
            "right": null,
            "top": null,
            "visibility": null,
            "width": null
          }
        },
        "3eec9913bd77464b826cf9b9966a8e51": {
          "model_module": "@jupyter-widgets/base",
          "model_module_version": "1.2.0",
          "model_name": "LayoutModel",
          "state": {
            "_model_module": "@jupyter-widgets/base",
            "_model_module_version": "1.2.0",
            "_model_name": "LayoutModel",
            "_view_count": null,
            "_view_module": "@jupyter-widgets/base",
            "_view_module_version": "1.2.0",
            "_view_name": "LayoutView",
            "align_content": null,
            "align_items": null,
            "align_self": null,
            "border": null,
            "bottom": null,
            "display": null,
            "flex": null,
            "flex_flow": null,
            "grid_area": null,
            "grid_auto_columns": null,
            "grid_auto_flow": null,
            "grid_auto_rows": null,
            "grid_column": null,
            "grid_gap": null,
            "grid_row": null,
            "grid_template_areas": null,
            "grid_template_columns": null,
            "grid_template_rows": null,
            "height": null,
            "justify_content": null,
            "justify_items": null,
            "left": null,
            "margin": null,
            "max_height": null,
            "max_width": null,
            "min_height": null,
            "min_width": null,
            "object_fit": null,
            "object_position": null,
            "order": null,
            "overflow": null,
            "overflow_x": null,
            "overflow_y": null,
            "padding": null,
            "right": null,
            "top": null,
            "visibility": null,
            "width": null
          }
        },
        "41f649a64bc940d1be433dde24d83e4a": {
          "model_module": "@jupyter-widgets/controls",
          "model_module_version": "1.5.0",
          "model_name": "DescriptionStyleModel",
          "state": {
            "_model_module": "@jupyter-widgets/controls",
            "_model_module_version": "1.5.0",
            "_model_name": "DescriptionStyleModel",
            "_view_count": null,
            "_view_module": "@jupyter-widgets/base",
            "_view_module_version": "1.2.0",
            "_view_name": "StyleView",
            "description_width": ""
          }
        },
        "4c8d92a5944c42b1bcbed9a280fe3634": {
          "model_module": "@jupyter-widgets/base",
          "model_module_version": "1.2.0",
          "model_name": "LayoutModel",
          "state": {
            "_model_module": "@jupyter-widgets/base",
            "_model_module_version": "1.2.0",
            "_model_name": "LayoutModel",
            "_view_count": null,
            "_view_module": "@jupyter-widgets/base",
            "_view_module_version": "1.2.0",
            "_view_name": "LayoutView",
            "align_content": null,
            "align_items": null,
            "align_self": null,
            "border": null,
            "bottom": null,
            "display": null,
            "flex": null,
            "flex_flow": null,
            "grid_area": null,
            "grid_auto_columns": null,
            "grid_auto_flow": null,
            "grid_auto_rows": null,
            "grid_column": null,
            "grid_gap": null,
            "grid_row": null,
            "grid_template_areas": null,
            "grid_template_columns": null,
            "grid_template_rows": null,
            "height": null,
            "justify_content": null,
            "justify_items": null,
            "left": null,
            "margin": null,
            "max_height": null,
            "max_width": null,
            "min_height": null,
            "min_width": null,
            "object_fit": null,
            "object_position": null,
            "order": null,
            "overflow": null,
            "overflow_x": null,
            "overflow_y": null,
            "padding": null,
            "right": null,
            "top": null,
            "visibility": null,
            "width": null
          }
        },
        "5dc3bb2a5b0a46b29596b75e0c8d886a": {
          "model_module": "@jupyter-widgets/controls",
          "model_module_version": "1.5.0",
          "model_name": "HTMLModel",
          "state": {
            "_dom_classes": [],
            "_model_module": "@jupyter-widgets/controls",
            "_model_module_version": "1.5.0",
            "_model_name": "HTMLModel",
            "_view_count": null,
            "_view_module": "@jupyter-widgets/controls",
            "_view_module_version": "1.5.0",
            "_view_name": "HTMLView",
            "description": "",
            "description_tooltip": null,
            "layout": "IPY_MODEL_620a1dc9389a4fa5bb260b65094dd4d4",
            "placeholder": "​",
            "style": "IPY_MODEL_f5cb2f5b310145deb14f805ced2f9f2e",
            "value": "Downloading: 100%"
          }
        },
        "5fbbdb446a5e40d9914843b330b54715": {
          "model_module": "@jupyter-widgets/base",
          "model_module_version": "1.2.0",
          "model_name": "LayoutModel",
          "state": {
            "_model_module": "@jupyter-widgets/base",
            "_model_module_version": "1.2.0",
            "_model_name": "LayoutModel",
            "_view_count": null,
            "_view_module": "@jupyter-widgets/base",
            "_view_module_version": "1.2.0",
            "_view_name": "LayoutView",
            "align_content": null,
            "align_items": null,
            "align_self": null,
            "border": null,
            "bottom": null,
            "display": null,
            "flex": null,
            "flex_flow": null,
            "grid_area": null,
            "grid_auto_columns": null,
            "grid_auto_flow": null,
            "grid_auto_rows": null,
            "grid_column": null,
            "grid_gap": null,
            "grid_row": null,
            "grid_template_areas": null,
            "grid_template_columns": null,
            "grid_template_rows": null,
            "height": null,
            "justify_content": null,
            "justify_items": null,
            "left": null,
            "margin": null,
            "max_height": null,
            "max_width": null,
            "min_height": null,
            "min_width": null,
            "object_fit": null,
            "object_position": null,
            "order": null,
            "overflow": null,
            "overflow_x": null,
            "overflow_y": null,
            "padding": null,
            "right": null,
            "top": null,
            "visibility": null,
            "width": null
          }
        },
        "620a1dc9389a4fa5bb260b65094dd4d4": {
          "model_module": "@jupyter-widgets/base",
          "model_module_version": "1.2.0",
          "model_name": "LayoutModel",
          "state": {
            "_model_module": "@jupyter-widgets/base",
            "_model_module_version": "1.2.0",
            "_model_name": "LayoutModel",
            "_view_count": null,
            "_view_module": "@jupyter-widgets/base",
            "_view_module_version": "1.2.0",
            "_view_name": "LayoutView",
            "align_content": null,
            "align_items": null,
            "align_self": null,
            "border": null,
            "bottom": null,
            "display": null,
            "flex": null,
            "flex_flow": null,
            "grid_area": null,
            "grid_auto_columns": null,
            "grid_auto_flow": null,
            "grid_auto_rows": null,
            "grid_column": null,
            "grid_gap": null,
            "grid_row": null,
            "grid_template_areas": null,
            "grid_template_columns": null,
            "grid_template_rows": null,
            "height": null,
            "justify_content": null,
            "justify_items": null,
            "left": null,
            "margin": null,
            "max_height": null,
            "max_width": null,
            "min_height": null,
            "min_width": null,
            "object_fit": null,
            "object_position": null,
            "order": null,
            "overflow": null,
            "overflow_x": null,
            "overflow_y": null,
            "padding": null,
            "right": null,
            "top": null,
            "visibility": null,
            "width": null
          }
        },
        "8c2ba353e1a946409fa37f2a05030e20": {
          "model_module": "@jupyter-widgets/base",
          "model_module_version": "1.2.0",
          "model_name": "LayoutModel",
          "state": {
            "_model_module": "@jupyter-widgets/base",
            "_model_module_version": "1.2.0",
            "_model_name": "LayoutModel",
            "_view_count": null,
            "_view_module": "@jupyter-widgets/base",
            "_view_module_version": "1.2.0",
            "_view_name": "LayoutView",
            "align_content": null,
            "align_items": null,
            "align_self": null,
            "border": null,
            "bottom": null,
            "display": null,
            "flex": null,
            "flex_flow": null,
            "grid_area": null,
            "grid_auto_columns": null,
            "grid_auto_flow": null,
            "grid_auto_rows": null,
            "grid_column": null,
            "grid_gap": null,
            "grid_row": null,
            "grid_template_areas": null,
            "grid_template_columns": null,
            "grid_template_rows": null,
            "height": null,
            "justify_content": null,
            "justify_items": null,
            "left": null,
            "margin": null,
            "max_height": null,
            "max_width": null,
            "min_height": null,
            "min_width": null,
            "object_fit": null,
            "object_position": null,
            "order": null,
            "overflow": null,
            "overflow_x": null,
            "overflow_y": null,
            "padding": null,
            "right": null,
            "top": null,
            "visibility": null,
            "width": null
          }
        },
        "8ff474b03d23456cb37e6f419b0325f1": {
          "model_module": "@jupyter-widgets/controls",
          "model_module_version": "1.5.0",
          "model_name": "ProgressStyleModel",
          "state": {
            "_model_module": "@jupyter-widgets/controls",
            "_model_module_version": "1.5.0",
            "_model_name": "ProgressStyleModel",
            "_view_count": null,
            "_view_module": "@jupyter-widgets/base",
            "_view_module_version": "1.2.0",
            "_view_name": "StyleView",
            "bar_color": null,
            "description_width": ""
          }
        },
        "92dcd05406d842e28e70673eb4cf3417": {
          "model_module": "@jupyter-widgets/controls",
          "model_module_version": "1.5.0",
          "model_name": "DescriptionStyleModel",
          "state": {
            "_model_module": "@jupyter-widgets/controls",
            "_model_module_version": "1.5.0",
            "_model_name": "DescriptionStyleModel",
            "_view_count": null,
            "_view_module": "@jupyter-widgets/base",
            "_view_module_version": "1.2.0",
            "_view_name": "StyleView",
            "description_width": ""
          }
        },
        "95726fe2d0834d409aca20c42e6e5139": {
          "model_module": "@jupyter-widgets/controls",
          "model_module_version": "1.5.0",
          "model_name": "HTMLModel",
          "state": {
            "_dom_classes": [],
            "_model_module": "@jupyter-widgets/controls",
            "_model_module_version": "1.5.0",
            "_model_name": "HTMLModel",
            "_view_count": null,
            "_view_module": "@jupyter-widgets/controls",
            "_view_module_version": "1.5.0",
            "_view_name": "HTMLView",
            "description": "",
            "description_tooltip": null,
            "layout": "IPY_MODEL_c49dcc4745cb497b91b177f96c422046",
            "placeholder": "​",
            "style": "IPY_MODEL_c1bb4e0632ee48b7aa3443688d98aecd",
            "value": "Downloading: 100%"
          }
        },
        "9b623fe28cfc4a81a279d68b73e1947a": {
          "model_module": "@jupyter-widgets/base",
          "model_module_version": "1.2.0",
          "model_name": "LayoutModel",
          "state": {
            "_model_module": "@jupyter-widgets/base",
            "_model_module_version": "1.2.0",
            "_model_name": "LayoutModel",
            "_view_count": null,
            "_view_module": "@jupyter-widgets/base",
            "_view_module_version": "1.2.0",
            "_view_name": "LayoutView",
            "align_content": null,
            "align_items": null,
            "align_self": null,
            "border": null,
            "bottom": null,
            "display": null,
            "flex": null,
            "flex_flow": null,
            "grid_area": null,
            "grid_auto_columns": null,
            "grid_auto_flow": null,
            "grid_auto_rows": null,
            "grid_column": null,
            "grid_gap": null,
            "grid_row": null,
            "grid_template_areas": null,
            "grid_template_columns": null,
            "grid_template_rows": null,
            "height": null,
            "justify_content": null,
            "justify_items": null,
            "left": null,
            "margin": null,
            "max_height": null,
            "max_width": null,
            "min_height": null,
            "min_width": null,
            "object_fit": null,
            "object_position": null,
            "order": null,
            "overflow": null,
            "overflow_x": null,
            "overflow_y": null,
            "padding": null,
            "right": null,
            "top": null,
            "visibility": null,
            "width": null
          }
        },
        "9c6b0ba2a6ae4ba0ac3dfd9bcf9d90e0": {
          "model_module": "@jupyter-widgets/controls",
          "model_module_version": "1.5.0",
          "model_name": "FloatProgressModel",
          "state": {
            "_dom_classes": [],
            "_model_module": "@jupyter-widgets/controls",
            "_model_module_version": "1.5.0",
            "_model_name": "FloatProgressModel",
            "_view_count": null,
            "_view_module": "@jupyter-widgets/controls",
            "_view_module_version": "1.5.0",
            "_view_name": "ProgressView",
            "bar_style": "success",
            "description": "",
            "description_tooltip": null,
            "layout": "IPY_MODEL_5fbbdb446a5e40d9914843b330b54715",
            "max": 570,
            "min": 0,
            "orientation": "horizontal",
            "style": "IPY_MODEL_eadabc107abc4d18a7b9e37eee7f4eb8",
            "value": 570
          }
        },
        "9d603e6c3a5240d4a25ab1c0ab0e218c": {
          "model_module": "@jupyter-widgets/base",
          "model_module_version": "1.2.0",
          "model_name": "LayoutModel",
          "state": {
            "_model_module": "@jupyter-widgets/base",
            "_model_module_version": "1.2.0",
            "_model_name": "LayoutModel",
            "_view_count": null,
            "_view_module": "@jupyter-widgets/base",
            "_view_module_version": "1.2.0",
            "_view_name": "LayoutView",
            "align_content": null,
            "align_items": null,
            "align_self": null,
            "border": null,
            "bottom": null,
            "display": null,
            "flex": null,
            "flex_flow": null,
            "grid_area": null,
            "grid_auto_columns": null,
            "grid_auto_flow": null,
            "grid_auto_rows": null,
            "grid_column": null,
            "grid_gap": null,
            "grid_row": null,
            "grid_template_areas": null,
            "grid_template_columns": null,
            "grid_template_rows": null,
            "height": null,
            "justify_content": null,
            "justify_items": null,
            "left": null,
            "margin": null,
            "max_height": null,
            "max_width": null,
            "min_height": null,
            "min_width": null,
            "object_fit": null,
            "object_position": null,
            "order": null,
            "overflow": null,
            "overflow_x": null,
            "overflow_y": null,
            "padding": null,
            "right": null,
            "top": null,
            "visibility": null,
            "width": null
          }
        },
        "a87f9f7029364884966d4d0e0a96935b": {
          "model_module": "@jupyter-widgets/controls",
          "model_module_version": "1.5.0",
          "model_name": "HTMLModel",
          "state": {
            "_dom_classes": [],
            "_model_module": "@jupyter-widgets/controls",
            "_model_module_version": "1.5.0",
            "_model_name": "HTMLModel",
            "_view_count": null,
            "_view_module": "@jupyter-widgets/controls",
            "_view_module_version": "1.5.0",
            "_view_name": "HTMLView",
            "description": "",
            "description_tooltip": null,
            "layout": "IPY_MODEL_9d603e6c3a5240d4a25ab1c0ab0e218c",
            "placeholder": "​",
            "style": "IPY_MODEL_302d637bb3914364bf516d044bdc1912",
            "value": " 416M/416M [00:08&lt;00:00, 54.4MB/s]"
          }
        },
        "aa868430d3144c86b5b11df10a30e7d8": {
          "model_module": "@jupyter-widgets/controls",
          "model_module_version": "1.5.0",
          "model_name": "DescriptionStyleModel",
          "state": {
            "_model_module": "@jupyter-widgets/controls",
            "_model_module_version": "1.5.0",
            "_model_name": "DescriptionStyleModel",
            "_view_count": null,
            "_view_module": "@jupyter-widgets/base",
            "_view_module_version": "1.2.0",
            "_view_name": "StyleView",
            "description_width": ""
          }
        },
        "ac7f4de585a346a4b786960f6cda519f": {
          "model_module": "@jupyter-widgets/controls",
          "model_module_version": "1.5.0",
          "model_name": "HBoxModel",
          "state": {
            "_dom_classes": [],
            "_model_module": "@jupyter-widgets/controls",
            "_model_module_version": "1.5.0",
            "_model_name": "HBoxModel",
            "_view_count": null,
            "_view_module": "@jupyter-widgets/controls",
            "_view_module_version": "1.5.0",
            "_view_name": "HBoxView",
            "box_style": "",
            "children": [
              "IPY_MODEL_95726fe2d0834d409aca20c42e6e5139",
              "IPY_MODEL_22f4bf1646c7473cb28ecd6ec694aaf6",
              "IPY_MODEL_a87f9f7029364884966d4d0e0a96935b"
            ],
            "layout": "IPY_MODEL_e7ee87861d12459389bbb713793f2ac8"
          }
        },
        "b53e301d2f3e4734b6731b0acebe6e62": {
          "model_module": "@jupyter-widgets/controls",
          "model_module_version": "1.5.0",
          "model_name": "FloatProgressModel",
          "state": {
            "_dom_classes": [],
            "_model_module": "@jupyter-widgets/controls",
            "_model_module_version": "1.5.0",
            "_model_name": "FloatProgressModel",
            "_view_count": null,
            "_view_module": "@jupyter-widgets/controls",
            "_view_module_version": "1.5.0",
            "_view_name": "ProgressView",
            "bar_style": "success",
            "description": "",
            "description_tooltip": null,
            "layout": "IPY_MODEL_ce8e80180c8046288896a3593f7dc2d0",
            "max": 29,
            "min": 0,
            "orientation": "horizontal",
            "style": "IPY_MODEL_8ff474b03d23456cb37e6f419b0325f1",
            "value": 29
          }
        },
        "baf802def57a4ded989543a69bd8bdd8": {
          "model_module": "@jupyter-widgets/controls",
          "model_module_version": "1.5.0",
          "model_name": "HTMLModel",
          "state": {
            "_dom_classes": [],
            "_model_module": "@jupyter-widgets/controls",
            "_model_module_version": "1.5.0",
            "_model_name": "HTMLModel",
            "_view_count": null,
            "_view_module": "@jupyter-widgets/controls",
            "_view_module_version": "1.5.0",
            "_view_name": "HTMLView",
            "description": "",
            "description_tooltip": null,
            "layout": "IPY_MODEL_3eec9913bd77464b826cf9b9966a8e51",
            "placeholder": "​",
            "style": "IPY_MODEL_92dcd05406d842e28e70673eb4cf3417",
            "value": " 570/570 [00:00&lt;00:00, 17.3kB/s]"
          }
        },
        "bea49ddb0c384030b59cf11e63352d69": {
          "model_module": "@jupyter-widgets/controls",
          "model_module_version": "1.5.0",
          "model_name": "HTMLModel",
          "state": {
            "_dom_classes": [],
            "_model_module": "@jupyter-widgets/controls",
            "_model_module_version": "1.5.0",
            "_model_name": "HTMLModel",
            "_view_count": null,
            "_view_module": "@jupyter-widgets/controls",
            "_view_module_version": "1.5.0",
            "_view_name": "HTMLView",
            "description": "",
            "description_tooltip": null,
            "layout": "IPY_MODEL_34c8fa396ec14a64a64d20f82e676204",
            "placeholder": "​",
            "style": "IPY_MODEL_aa868430d3144c86b5b11df10a30e7d8",
            "value": "Downloading: 100%"
          }
        },
        "c1bb4e0632ee48b7aa3443688d98aecd": {
          "model_module": "@jupyter-widgets/controls",
          "model_module_version": "1.5.0",
          "model_name": "DescriptionStyleModel",
          "state": {
            "_model_module": "@jupyter-widgets/controls",
            "_model_module_version": "1.5.0",
            "_model_name": "DescriptionStyleModel",
            "_view_count": null,
            "_view_module": "@jupyter-widgets/base",
            "_view_module_version": "1.2.0",
            "_view_name": "StyleView",
            "description_width": ""
          }
        },
        "c398e854043843af8c90ff416e3f4296": {
          "model_module": "@jupyter-widgets/controls",
          "model_module_version": "1.5.0",
          "model_name": "DescriptionStyleModel",
          "state": {
            "_model_module": "@jupyter-widgets/controls",
            "_model_module_version": "1.5.0",
            "_model_name": "DescriptionStyleModel",
            "_view_count": null,
            "_view_module": "@jupyter-widgets/base",
            "_view_module_version": "1.2.0",
            "_view_name": "StyleView",
            "description_width": ""
          }
        },
        "c49dcc4745cb497b91b177f96c422046": {
          "model_module": "@jupyter-widgets/base",
          "model_module_version": "1.2.0",
          "model_name": "LayoutModel",
          "state": {
            "_model_module": "@jupyter-widgets/base",
            "_model_module_version": "1.2.0",
            "_model_name": "LayoutModel",
            "_view_count": null,
            "_view_module": "@jupyter-widgets/base",
            "_view_module_version": "1.2.0",
            "_view_name": "LayoutView",
            "align_content": null,
            "align_items": null,
            "align_self": null,
            "border": null,
            "bottom": null,
            "display": null,
            "flex": null,
            "flex_flow": null,
            "grid_area": null,
            "grid_auto_columns": null,
            "grid_auto_flow": null,
            "grid_auto_rows": null,
            "grid_column": null,
            "grid_gap": null,
            "grid_row": null,
            "grid_template_areas": null,
            "grid_template_columns": null,
            "grid_template_rows": null,
            "height": null,
            "justify_content": null,
            "justify_items": null,
            "left": null,
            "margin": null,
            "max_height": null,
            "max_width": null,
            "min_height": null,
            "min_width": null,
            "object_fit": null,
            "object_position": null,
            "order": null,
            "overflow": null,
            "overflow_x": null,
            "overflow_y": null,
            "padding": null,
            "right": null,
            "top": null,
            "visibility": null,
            "width": null
          }
        },
        "ce8e80180c8046288896a3593f7dc2d0": {
          "model_module": "@jupyter-widgets/base",
          "model_module_version": "1.2.0",
          "model_name": "LayoutModel",
          "state": {
            "_model_module": "@jupyter-widgets/base",
            "_model_module_version": "1.2.0",
            "_model_name": "LayoutModel",
            "_view_count": null,
            "_view_module": "@jupyter-widgets/base",
            "_view_module_version": "1.2.0",
            "_view_name": "LayoutView",
            "align_content": null,
            "align_items": null,
            "align_self": null,
            "border": null,
            "bottom": null,
            "display": null,
            "flex": null,
            "flex_flow": null,
            "grid_area": null,
            "grid_auto_columns": null,
            "grid_auto_flow": null,
            "grid_auto_rows": null,
            "grid_column": null,
            "grid_gap": null,
            "grid_row": null,
            "grid_template_areas": null,
            "grid_template_columns": null,
            "grid_template_rows": null,
            "height": null,
            "justify_content": null,
            "justify_items": null,
            "left": null,
            "margin": null,
            "max_height": null,
            "max_width": null,
            "min_height": null,
            "min_width": null,
            "object_fit": null,
            "object_position": null,
            "order": null,
            "overflow": null,
            "overflow_x": null,
            "overflow_y": null,
            "padding": null,
            "right": null,
            "top": null,
            "visibility": null,
            "width": null
          }
        },
        "d49ed9c131794f9b8fb5556cfd06d72f": {
          "model_module": "@jupyter-widgets/controls",
          "model_module_version": "1.5.0",
          "model_name": "HTMLModel",
          "state": {
            "_dom_classes": [],
            "_model_module": "@jupyter-widgets/controls",
            "_model_module_version": "1.5.0",
            "_model_name": "HTMLModel",
            "_view_count": null,
            "_view_module": "@jupyter-widgets/controls",
            "_view_module_version": "1.5.0",
            "_view_name": "HTMLView",
            "description": "",
            "description_tooltip": null,
            "layout": "IPY_MODEL_8c2ba353e1a946409fa37f2a05030e20",
            "placeholder": "​",
            "style": "IPY_MODEL_41f649a64bc940d1be433dde24d83e4a",
            "value": "Downloading: 100%"
          }
        },
        "d4a2714310fd42888d16af723df0fb58": {
          "model_module": "@jupyter-widgets/controls",
          "model_module_version": "1.5.0",
          "model_name": "HBoxModel",
          "state": {
            "_dom_classes": [],
            "_model_module": "@jupyter-widgets/controls",
            "_model_module_version": "1.5.0",
            "_model_name": "HBoxModel",
            "_view_count": null,
            "_view_module": "@jupyter-widgets/controls",
            "_view_module_version": "1.5.0",
            "_view_name": "HBoxView",
            "box_style": "",
            "children": [
              "IPY_MODEL_d49ed9c131794f9b8fb5556cfd06d72f",
              "IPY_MODEL_0fc8c827cdb3473bb8d883896c453461",
              "IPY_MODEL_16744b5c9e3341269403a41e3263fcf7"
            ],
            "layout": "IPY_MODEL_0fd4b2df7872402c9fc87227652741af"
          }
        },
        "e7ee87861d12459389bbb713793f2ac8": {
          "model_module": "@jupyter-widgets/base",
          "model_module_version": "1.2.0",
          "model_name": "LayoutModel",
          "state": {
            "_model_module": "@jupyter-widgets/base",
            "_model_module_version": "1.2.0",
            "_model_name": "LayoutModel",
            "_view_count": null,
            "_view_module": "@jupyter-widgets/base",
            "_view_module_version": "1.2.0",
            "_view_name": "LayoutView",
            "align_content": null,
            "align_items": null,
            "align_self": null,
            "border": null,
            "bottom": null,
            "display": null,
            "flex": null,
            "flex_flow": null,
            "grid_area": null,
            "grid_auto_columns": null,
            "grid_auto_flow": null,
            "grid_auto_rows": null,
            "grid_column": null,
            "grid_gap": null,
            "grid_row": null,
            "grid_template_areas": null,
            "grid_template_columns": null,
            "grid_template_rows": null,
            "height": null,
            "justify_content": null,
            "justify_items": null,
            "left": null,
            "margin": null,
            "max_height": null,
            "max_width": null,
            "min_height": null,
            "min_width": null,
            "object_fit": null,
            "object_position": null,
            "order": null,
            "overflow": null,
            "overflow_x": null,
            "overflow_y": null,
            "padding": null,
            "right": null,
            "top": null,
            "visibility": null,
            "width": null
          }
        },
        "eadabc107abc4d18a7b9e37eee7f4eb8": {
          "model_module": "@jupyter-widgets/controls",
          "model_module_version": "1.5.0",
          "model_name": "ProgressStyleModel",
          "state": {
            "_model_module": "@jupyter-widgets/controls",
            "_model_module_version": "1.5.0",
            "_model_name": "ProgressStyleModel",
            "_view_count": null,
            "_view_module": "@jupyter-widgets/base",
            "_view_module_version": "1.2.0",
            "_view_name": "StyleView",
            "bar_color": null,
            "description_width": ""
          }
        },
        "ec84664d95744a5d8f81a3c2c057f75c": {
          "model_module": "@jupyter-widgets/base",
          "model_module_version": "1.2.0",
          "model_name": "LayoutModel",
          "state": {
            "_model_module": "@jupyter-widgets/base",
            "_model_module_version": "1.2.0",
            "_model_name": "LayoutModel",
            "_view_count": null,
            "_view_module": "@jupyter-widgets/base",
            "_view_module_version": "1.2.0",
            "_view_name": "LayoutView",
            "align_content": null,
            "align_items": null,
            "align_self": null,
            "border": null,
            "bottom": null,
            "display": null,
            "flex": null,
            "flex_flow": null,
            "grid_area": null,
            "grid_auto_columns": null,
            "grid_auto_flow": null,
            "grid_auto_rows": null,
            "grid_column": null,
            "grid_gap": null,
            "grid_row": null,
            "grid_template_areas": null,
            "grid_template_columns": null,
            "grid_template_rows": null,
            "height": null,
            "justify_content": null,
            "justify_items": null,
            "left": null,
            "margin": null,
            "max_height": null,
            "max_width": null,
            "min_height": null,
            "min_width": null,
            "object_fit": null,
            "object_position": null,
            "order": null,
            "overflow": null,
            "overflow_x": null,
            "overflow_y": null,
            "padding": null,
            "right": null,
            "top": null,
            "visibility": null,
            "width": null
          }
        },
        "f3b38c73448e4f76bae578616d776bb9": {
          "model_module": "@jupyter-widgets/controls",
          "model_module_version": "1.5.0",
          "model_name": "DescriptionStyleModel",
          "state": {
            "_model_module": "@jupyter-widgets/controls",
            "_model_module_version": "1.5.0",
            "_model_name": "DescriptionStyleModel",
            "_view_count": null,
            "_view_module": "@jupyter-widgets/base",
            "_view_module_version": "1.2.0",
            "_view_name": "StyleView",
            "description_width": ""
          }
        },
        "f46167c660354bbc93e9108a66abb6df": {
          "model_module": "@jupyter-widgets/controls",
          "model_module_version": "1.5.0",
          "model_name": "HTMLModel",
          "state": {
            "_dom_classes": [],
            "_model_module": "@jupyter-widgets/controls",
            "_model_module_version": "1.5.0",
            "_model_name": "HTMLModel",
            "_view_count": null,
            "_view_module": "@jupyter-widgets/controls",
            "_view_module_version": "1.5.0",
            "_view_name": "HTMLView",
            "description": "",
            "description_tooltip": null,
            "layout": "IPY_MODEL_9b623fe28cfc4a81a279d68b73e1947a",
            "placeholder": "​",
            "style": "IPY_MODEL_f3b38c73448e4f76bae578616d776bb9",
            "value": " 29.0/29.0 [00:00&lt;00:00, 858B/s]"
          }
        },
        "f5cb2f5b310145deb14f805ced2f9f2e": {
          "model_module": "@jupyter-widgets/controls",
          "model_module_version": "1.5.0",
          "model_name": "DescriptionStyleModel",
          "state": {
            "_model_module": "@jupyter-widgets/controls",
            "_model_module_version": "1.5.0",
            "_model_name": "DescriptionStyleModel",
            "_view_count": null,
            "_view_module": "@jupyter-widgets/base",
            "_view_module_version": "1.2.0",
            "_view_name": "StyleView",
            "description_width": ""
          }
        },
        "f7c85b49dfce409493504e812499b950": {
          "model_module": "@jupyter-widgets/controls",
          "model_module_version": "1.5.0",
          "model_name": "HBoxModel",
          "state": {
            "_dom_classes": [],
            "_model_module": "@jupyter-widgets/controls",
            "_model_module_version": "1.5.0",
            "_model_name": "HBoxModel",
            "_view_count": null,
            "_view_module": "@jupyter-widgets/controls",
            "_view_module_version": "1.5.0",
            "_view_name": "HBoxView",
            "box_style": "",
            "children": [
              "IPY_MODEL_5dc3bb2a5b0a46b29596b75e0c8d886a",
              "IPY_MODEL_b53e301d2f3e4734b6731b0acebe6e62",
              "IPY_MODEL_f46167c660354bbc93e9108a66abb6df"
            ],
            "layout": "IPY_MODEL_4c8d92a5944c42b1bcbed9a280fe3634"
          }
        }
      }
    }
  },
  "nbformat": 4,
  "nbformat_minor": 0
}
